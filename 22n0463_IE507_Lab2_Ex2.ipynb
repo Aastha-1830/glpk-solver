{
  "nbformat": 4,
  "nbformat_minor": 0,
  "metadata": {
    "colab": {
      "name": "22n0463_IE507_Lab2_Ex2.ipynb",
      "provenance": [],
      "collapsed_sections": []
    },
    "kernelspec": {
      "name": "python3",
      "display_name": "Python 3"
    },
    "language_info": {
      "name": "python"
    }
  },
  "cells": [
    {
      "cell_type": "code",
      "execution_count": null,
      "metadata": {
        "colab": {
          "base_uri": "https://localhost:8080/"
        },
        "id": "pMJzidaVb5wC",
        "outputId": "5eddc08a-935e-488b-dc0e-436e6e42db2b"
      },
      "outputs": [
        {
          "output_type": "stream",
          "name": "stdout",
          "text": [
            "\u001b[K     |████████████████████████████████| 9.6 MB 5.2 MB/s \n",
            "\u001b[K     |████████████████████████████████| 49 kB 5.2 MB/s \n",
            "\u001b[?25h"
          ]
        }
      ],
      "source": [
        "!pip install -q pyomo\n",
        "from pyomo.environ import *"
      ]
    },
    {
      "cell_type": "code",
      "source": [
        "import numpy as np"
      ],
      "metadata": {
        "id": "LucJu34yczeF"
      },
      "execution_count": null,
      "outputs": []
    },
    {
      "cell_type": "code",
      "source": [
        "#Creating a model\n",
        "model1 = ConcreteModel()\n",
        "\n",
        "#No. of decision variables\n",
        "N = 12\n",
        "M = 5\n",
        "\n",
        "#Objective function coefficient using numpy array\n",
        "obj_coef_c = np.array([0.56, 1.721, -9.6, -2.85, 41.5, 33.05, -0.75, 20.5, -0.35, -31.02, 50.65, 6.125])\n",
        "\n",
        "#Constraints coeffiecient using numpy array\n",
        "constr_coef_A = np.array([1, -1, 0, 0, 2, -2, 1, 0, 0, -1, 1, -2, 1, 0, 0, -1, 0, -2, 0, -1, 1, 0, 0, -1, -1, 0, 0, 1, -1, 2.5, -3.5, 0, 2, -1, 1, 0, 0, 1, -0.45, 0, -2.78, 0, -3.4, 0, -1, 1, -1, 0.25, 0, -1, 1, 0, 1, 0, 1, 3, -2, 0, 1, 0]).reshape(5, 12)"
      ],
      "metadata": {
        "id": "ClGv8Hctc7Hi"
      },
      "execution_count": null,
      "outputs": []
    },
    {
      "cell_type": "code",
      "source": [
        "#Declaring RHS of the constraints as variables\n",
        "constr1_rhs_b = np.array([88.5, 35.4, 47.9, 41.43, 22.7])\n",
        "\n",
        "#Declaring lower and upper bounds of the constraints\n",
        "l = np.array([0, 0, -np.inf, -np.inf, -34, 0, -67, 0, -23, -5, 6, 1])\n",
        "u = np.array([12, 503, 4, +np.inf, +np.inf, 2, 20, 55, 23, 15, +np.inf, +np.inf])\n",
        "\n",
        "#Set of row and column indices\n",
        "row_indices = np.arange(M)\n",
        "col_indices = np.arange(N)\n",
        "print(col_indices)\n",
        "print(col_indices[1])"
      ],
      "metadata": {
        "colab": {
          "base_uri": "https://localhost:8080/"
        },
        "id": "Q0PmKlvDc_rA",
        "outputId": "68f9a329-4970-4d0c-8237-9e4c3208f15a"
      },
      "execution_count": null,
      "outputs": [
        {
          "output_type": "stream",
          "name": "stdout",
          "text": [
            "[ 0  1  2  3  4  5  6  7  8  9 10 11]\n",
            "1\n"
          ]
        }
      ]
    },
    {
      "cell_type": "code",
      "source": [
        "#Declaring the decision variables in model\n",
        "model1.y = Var(col_indices)"
      ],
      "metadata": {
        "id": "TTxRbYpidD5y"
      },
      "execution_count": null,
      "outputs": []
    },
    {
      "cell_type": "code",
      "source": [
        "#Creating a constraint list to hold multiple constraints\n",
        "model1.constraints = ConstraintList()\n",
        "\n",
        "#Adding model constraints one by one to the list\n",
        "#add the constraint p1x1 + p2x2 +.......+ pNxN == b1\n",
        "for i in row_indices:\n",
        " model1.constraints.add(sum(constr_coef_A[i][j]*model1.y[j] for j in col_indices) <= constr1_rhs_b[i])"
      ],
      "metadata": {
        "id": "rgIuACHDdFqm"
      },
      "execution_count": null,
      "outputs": []
    },
    {
      "cell_type": "code",
      "source": [
        "#add the upper and lower bounds for the variables\n",
        "for j in col_indices:\n",
        "  model1.y[j].setlb(l[j])\n",
        "  model1.y[j].setub(u[j])"
      ],
      "metadata": {
        "id": "3YK9yCMddJRY"
      },
      "execution_count": null,
      "outputs": []
    },
    {
      "cell_type": "code",
      "source": [
        "#add the model objective\n",
        "model1.objective = Objective(expr = sum(obj_coef_c[j]*model1.y[j] for j in col_indices), sense = minimize)"
      ],
      "metadata": {
        "id": "Btt2d-widOBu"
      },
      "execution_count": null,
      "outputs": []
    },
    {
      "cell_type": "code",
      "source": [
        "#print the whole model\n",
        "model1.pprint()"
      ],
      "metadata": {
        "colab": {
          "base_uri": "https://localhost:8080/"
        },
        "id": "NS9FDl5RdXXE",
        "outputId": "303fcbbc-d485-4740-fbbf-b690ccee5fa4"
      },
      "execution_count": null,
      "outputs": [
        {
          "output_type": "stream",
          "name": "stdout",
          "text": [
            "2 Set Declarations\n",
            "    constraints_index : Size=1, Index=None, Ordered=Insertion\n",
            "        Key  : Dimen : Domain : Size : Members\n",
            "        None :     1 :    Any :    5 : {1, 2, 3, 4, 5}\n",
            "    y_index : Size=1, Index=None, Ordered=False\n",
            "        Key  : Dimen : Domain : Size : Members\n",
            "        None :     1 :    Any :   12 : {0, 1, 2, 3, 4, 5, 6, 7, 8, 9, 10, 11}\n",
            "\n",
            "1 Var Declarations\n",
            "    y : Size=12, Index=y_index\n",
            "        Key : Lower : Value : Upper : Fixed : Stale : Domain\n",
            "          0 :   0.0 :  None :  12.0 : False :  True :  Reals\n",
            "          1 :   0.0 :  None : 503.0 : False :  True :  Reals\n",
            "          2 :  None :  None :   4.0 : False :  True :  Reals\n",
            "          3 :  None :  None :  None : False :  True :  Reals\n",
            "          4 : -34.0 :  None :  None : False :  True :  Reals\n",
            "          5 :   0.0 :  None :   2.0 : False :  True :  Reals\n",
            "          6 : -67.0 :  None :  20.0 : False :  True :  Reals\n",
            "          7 :   0.0 :  None :  55.0 : False :  True :  Reals\n",
            "          8 : -23.0 :  None :  23.0 : False :  True :  Reals\n",
            "          9 :  -5.0 :  None :  15.0 : False :  True :  Reals\n",
            "         10 :   6.0 :  None :  None : False :  True :  Reals\n",
            "         11 :   1.0 :  None :  None : False :  True :  Reals\n",
            "\n",
            "1 Objective Declarations\n",
            "    objective : Size=1, Index=None, Active=True\n",
            "        Key  : Active : Sense    : Expression\n",
            "        None :   True : minimize : 0.56*y[0] + 1.721*y[1] - 9.6*y[2] - 2.85*y[3] + 41.5*y[4] + 33.05*y[5] - 0.75*y[6] + 20.5*y[7] - 0.35*y[8] - 31.02*y[9] + 50.65*y[10] + 6.125*y[11]\n",
            "\n",
            "1 Constraint Declarations\n",
            "    constraints : Size=5, Index=constraints_index, Active=True\n",
            "        Key : Lower : Body                                                                       : Upper : Active\n",
            "          1 :  -Inf :        y[0] - y[1] + 2.0*y[4] - 2.0*y[5] + y[6] - y[9] + y[10] - 2.0*y[11] :  88.5 :   True\n",
            "          2 :  -Inf :                               y[0] - y[3] - 2.0*y[5] - y[7] + y[8] - y[11] :  35.4 :   True\n",
            "          3 :  -Inf :       - y[0] + y[3] - y[4] + 2.5*y[5] - 3.5*y[6] + 2.0*y[8] - y[9] + y[10] :  47.9 :   True\n",
            "          4 :  -Inf : y[1] - 0.45*y[2] - 2.78*y[4] - 3.4*y[6] - y[8] + y[9] - y[10] + 0.25*y[11] : 41.43 :   True\n",
            "          5 :  -Inf :                  - y[1] + y[2] + y[4] + y[6] + 3.0*y[7] - 2.0*y[8] + y[10] :  22.7 :   True\n",
            "\n",
            "5 Declarations: y_index y constraints_index constraints objective\n"
          ]
        }
      ]
    },
    {
      "cell_type": "code",
      "source": [
        "!apt-get install -y -qq glpk-utils"
      ],
      "metadata": {
        "colab": {
          "base_uri": "https://localhost:8080/"
        },
        "id": "_nnxeBdGdaUS",
        "outputId": "02bd4814-5e03-4c95-8e9a-d1a83943d311"
      },
      "execution_count": null,
      "outputs": [
        {
          "output_type": "stream",
          "name": "stdout",
          "text": [
            "Selecting previously unselected package libsuitesparseconfig5:amd64.\n",
            "(Reading database ... 155680 files and directories currently installed.)\n",
            "Preparing to unpack .../libsuitesparseconfig5_1%3a5.1.2-2_amd64.deb ...\n",
            "Unpacking libsuitesparseconfig5:amd64 (1:5.1.2-2) ...\n",
            "Selecting previously unselected package libamd2:amd64.\n",
            "Preparing to unpack .../libamd2_1%3a5.1.2-2_amd64.deb ...\n",
            "Unpacking libamd2:amd64 (1:5.1.2-2) ...\n",
            "Selecting previously unselected package libcolamd2:amd64.\n",
            "Preparing to unpack .../libcolamd2_1%3a5.1.2-2_amd64.deb ...\n",
            "Unpacking libcolamd2:amd64 (1:5.1.2-2) ...\n",
            "Selecting previously unselected package libglpk40:amd64.\n",
            "Preparing to unpack .../libglpk40_4.65-1_amd64.deb ...\n",
            "Unpacking libglpk40:amd64 (4.65-1) ...\n",
            "Selecting previously unselected package glpk-utils.\n",
            "Preparing to unpack .../glpk-utils_4.65-1_amd64.deb ...\n",
            "Unpacking glpk-utils (4.65-1) ...\n",
            "Setting up libsuitesparseconfig5:amd64 (1:5.1.2-2) ...\n",
            "Setting up libcolamd2:amd64 (1:5.1.2-2) ...\n",
            "Setting up libamd2:amd64 (1:5.1.2-2) ...\n",
            "Setting up libglpk40:amd64 (4.65-1) ...\n",
            "Setting up glpk-utils (4.65-1) ...\n",
            "Processing triggers for libc-bin (2.27-3ubuntu1.5) ...\n",
            "Processing triggers for man-db (2.8.3-2ubuntu0.1) ...\n"
          ]
        }
      ]
    },
    {
      "cell_type": "code",
      "source": [
        "SolverFactory('glpk', executable='/usr/bin/glpsol').solve(model1).write()"
      ],
      "metadata": {
        "colab": {
          "base_uri": "https://localhost:8080/"
        },
        "id": "z2DyRdFGdf2Q",
        "outputId": "f1e125f6-1ba6-44ef-adcc-10a8e9852375"
      },
      "execution_count": null,
      "outputs": [
        {
          "output_type": "stream",
          "name": "stdout",
          "text": [
            "# ==========================================================\n",
            "# = Solver Results                                         =\n",
            "# ==========================================================\n",
            "# ----------------------------------------------------------\n",
            "#   Problem Information\n",
            "# ----------------------------------------------------------\n",
            "Problem: \n",
            "- Name: unknown\n",
            "  Lower bound: -1951.831\n",
            "  Upper bound: -1951.831\n",
            "  Number of objectives: 1\n",
            "  Number of constraints: 6\n",
            "  Number of variables: 13\n",
            "  Number of nonzeros: 38\n",
            "  Sense: minimize\n",
            "# ----------------------------------------------------------\n",
            "#   Solver Information\n",
            "# ----------------------------------------------------------\n",
            "Solver: \n",
            "- Status: ok\n",
            "  Termination condition: optimal\n",
            "  Statistics: \n",
            "    Branch and bound: \n",
            "      Number of bounded subproblems: 0\n",
            "      Number of created subproblems: 0\n",
            "  Error rc: 0\n",
            "  Time: 0.01181173324584961\n",
            "# ----------------------------------------------------------\n",
            "#   Solution Information\n",
            "# ----------------------------------------------------------\n",
            "Solution: \n",
            "- number of solutions: 0\n",
            "  number of solutions displayed: 0\n"
          ]
        }
      ]
    },
    {
      "cell_type": "code",
      "source": [
        "#Display solution\n",
        "print('\\nObjective = ', model1.objective())\n",
        "print('\\nDecision Variables')\n",
        "for i in col_indices:\n",
        "  print('y[',i,'] = ', model1.y[i].value)\n",
        "print('\\nConstraints')\n",
        "model1.constraints.display()"
      ],
      "metadata": {
        "colab": {
          "base_uri": "https://localhost:8080/"
        },
        "id": "IDklyJ2Pdj8v",
        "outputId": "a7f12ff8-b9bc-437c-adf4-2a3fdda8608f"
      },
      "execution_count": null,
      "outputs": [
        {
          "output_type": "stream",
          "name": "stdout",
          "text": [
            "\n",
            "Objective =  -1951.8309999999997\n",
            "\n",
            "Decision Variables\n",
            "y[ 0 ] =  12.0\n",
            "y[ 1 ] =  0.0\n",
            "y[ 2 ] =  4.0\n",
            "y[ 3 ] =  119.82\n",
            "y[ 4 ] =  -34.0\n",
            "y[ 5 ] =  0.0\n",
            "y[ 6 ] =  20.0\n",
            "y[ 7 ] =  0.0\n",
            "y[ 8 ] =  -7.46000000000002\n",
            "y[ 9 ] =  15.0\n",
            "y[ 10 ] =  6.0\n",
            "y[ 11 ] =  1.0\n",
            "\n",
            "Constraints\n",
            "constraints : Size=5\n",
            "    Key : Lower : Body                : Upper\n",
            "      1 :  None :               -47.0 :  88.5\n",
            "      2 :  None : -116.28000000000002 :  35.4\n",
            "      3 :  None :   47.89999999999995 :  47.9\n",
            "      4 :  None :   41.43000000000002 : 41.43\n",
            "      5 :  None :   10.92000000000004 :  22.7\n"
          ]
        }
      ]
    },
    {
      "cell_type": "markdown",
      "source": [
        "**Report on exercise 2 part 1:**\n",
        "\n",
        "*   **The value of the decision variables at optimal point are:**\n",
        "\n",
        "     y1 = 12.0\n",
        "\n",
        "     y2 = 0.0\n",
        "\n",
        "     y3 = 4.0\n",
        "\n",
        "     y4 = 119.82\n",
        "\n",
        "     y5 = -34.0\n",
        "\n",
        "     y6 = 0.0\n",
        "\n",
        "     y7 = 20.0\n",
        "\n",
        "     y8 = 0.0\n",
        "\n",
        "     y9 = -7.46000000000002\n",
        "\n",
        "     y10 = 15.0\n",
        "\n",
        "     y11 = 6.0\n",
        "\n",
        "     y12 = 1.0\n",
        "\n",
        "*   **The value of the objective function at the optimal point is:**\n",
        "\n",
        "     -1951.8309999999997\n",
        "\n",
        "\n",
        "    \n",
        "\n"
      ],
      "metadata": {
        "id": "-Y2u0hei4sxB"
      }
    },
    {
      "cell_type": "markdown",
      "source": [
        "**Report on exercise 2 part 2:**\n",
        "\n",
        "\n",
        "\n",
        "*   Constraint 1 is an inactive constraint because it evaluates to -47.0 < 88.5 = RHS\n",
        "*   Constraint 2 is an inactive constraint because it evaluates to -116.28000000000002 < 35.4= RHS\n",
        "\n",
        "*   Constraint 3 is an active constraint because it evaluates to 47.8999999999 which is almost equal to 47.9 = RHS\n",
        "\n",
        "*   Constraint 4 is an active constraint because it evaluates to 41.43 which is almost equal to 41.43 = RHS\n",
        "\n",
        "*   Constraint 2 is an inactive constraint because it evaluates to 10.92 > 22.7 = RHS\n",
        "\n",
        "\n",
        "\n",
        "\n",
        "\n",
        "\n"
      ],
      "metadata": {
        "id": "UM7jj6K36370"
      }
    }
  ]
}