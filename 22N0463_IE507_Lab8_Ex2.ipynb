{
  "nbformat": 4,
  "nbformat_minor": 0,
  "metadata": {
    "colab": {
      "provenance": []
    },
    "kernelspec": {
      "name": "python3",
      "display_name": "Python 3"
    },
    "language_info": {
      "name": "python"
    }
  },
  "cells": [
    {
      "cell_type": "code",
      "execution_count": null,
      "metadata": {
        "id": "lI5vD_bzYcUs"
      },
      "outputs": [],
      "source": [
        "!pip install -q pyomo"
      ]
    },
    {
      "cell_type": "code",
      "source": [
        "from pyomo.environ import *\n",
        "import pandas as pd\n",
        "import numpy as np"
      ],
      "metadata": {
        "id": "BKpGi7wDZLSC"
      },
      "execution_count": null,
      "outputs": []
    },
    {
      "cell_type": "code",
      "source": [
        "df = pd.read_csv('lab8_ex2.csv')  #read the data\n",
        "df"
      ],
      "metadata": {
        "colab": {
          "base_uri": "https://localhost:8080/",
          "height": 237
        },
        "id": "xMz3-9uiZX5b",
        "outputId": "f57d3883-f311-472b-c672-662135b5dfda"
      },
      "execution_count": null,
      "outputs": [
        {
          "output_type": "execute_result",
          "data": {
            "text/plain": [
              "   i    Ri    Vi     Bi   Ai         Ti        Di\n",
              "0  1   175   945   2800   23   2.962963  0.024339\n",
              "1  2   450   832   3900   40   4.687500  0.048077\n",
              "2  3  1050  2007  24900   78  12.406577  0.038864\n",
              "3  4   900   800  36450   64  45.562500  0.080000\n",
              "4  5    19   780    366    4   0.469231  0.005128\n",
              "5  6  3550  5005  38500  150   7.692308  0.029970"
            ],
            "text/html": [
              "\n",
              "  <div id=\"df-5642917f-00d2-4250-ab40-57a3439103f6\">\n",
              "    <div class=\"colab-df-container\">\n",
              "      <div>\n",
              "<style scoped>\n",
              "    .dataframe tbody tr th:only-of-type {\n",
              "        vertical-align: middle;\n",
              "    }\n",
              "\n",
              "    .dataframe tbody tr th {\n",
              "        vertical-align: top;\n",
              "    }\n",
              "\n",
              "    .dataframe thead th {\n",
              "        text-align: right;\n",
              "    }\n",
              "</style>\n",
              "<table border=\"1\" class=\"dataframe\">\n",
              "  <thead>\n",
              "    <tr style=\"text-align: right;\">\n",
              "      <th></th>\n",
              "      <th>i</th>\n",
              "      <th>Ri</th>\n",
              "      <th>Vi</th>\n",
              "      <th>Bi</th>\n",
              "      <th>Ai</th>\n",
              "      <th>Ti</th>\n",
              "      <th>Di</th>\n",
              "    </tr>\n",
              "  </thead>\n",
              "  <tbody>\n",
              "    <tr>\n",
              "      <th>0</th>\n",
              "      <td>1</td>\n",
              "      <td>175</td>\n",
              "      <td>945</td>\n",
              "      <td>2800</td>\n",
              "      <td>23</td>\n",
              "      <td>2.962963</td>\n",
              "      <td>0.024339</td>\n",
              "    </tr>\n",
              "    <tr>\n",
              "      <th>1</th>\n",
              "      <td>2</td>\n",
              "      <td>450</td>\n",
              "      <td>832</td>\n",
              "      <td>3900</td>\n",
              "      <td>40</td>\n",
              "      <td>4.687500</td>\n",
              "      <td>0.048077</td>\n",
              "    </tr>\n",
              "    <tr>\n",
              "      <th>2</th>\n",
              "      <td>3</td>\n",
              "      <td>1050</td>\n",
              "      <td>2007</td>\n",
              "      <td>24900</td>\n",
              "      <td>78</td>\n",
              "      <td>12.406577</td>\n",
              "      <td>0.038864</td>\n",
              "    </tr>\n",
              "    <tr>\n",
              "      <th>3</th>\n",
              "      <td>4</td>\n",
              "      <td>900</td>\n",
              "      <td>800</td>\n",
              "      <td>36450</td>\n",
              "      <td>64</td>\n",
              "      <td>45.562500</td>\n",
              "      <td>0.080000</td>\n",
              "    </tr>\n",
              "    <tr>\n",
              "      <th>4</th>\n",
              "      <td>5</td>\n",
              "      <td>19</td>\n",
              "      <td>780</td>\n",
              "      <td>366</td>\n",
              "      <td>4</td>\n",
              "      <td>0.469231</td>\n",
              "      <td>0.005128</td>\n",
              "    </tr>\n",
              "    <tr>\n",
              "      <th>5</th>\n",
              "      <td>6</td>\n",
              "      <td>3550</td>\n",
              "      <td>5005</td>\n",
              "      <td>38500</td>\n",
              "      <td>150</td>\n",
              "      <td>7.692308</td>\n",
              "      <td>0.029970</td>\n",
              "    </tr>\n",
              "  </tbody>\n",
              "</table>\n",
              "</div>\n",
              "      <button class=\"colab-df-convert\" onclick=\"convertToInteractive('df-5642917f-00d2-4250-ab40-57a3439103f6')\"\n",
              "              title=\"Convert this dataframe to an interactive table.\"\n",
              "              style=\"display:none;\">\n",
              "        \n",
              "  <svg xmlns=\"http://www.w3.org/2000/svg\" height=\"24px\"viewBox=\"0 0 24 24\"\n",
              "       width=\"24px\">\n",
              "    <path d=\"M0 0h24v24H0V0z\" fill=\"none\"/>\n",
              "    <path d=\"M18.56 5.44l.94 2.06.94-2.06 2.06-.94-2.06-.94-.94-2.06-.94 2.06-2.06.94zm-11 1L8.5 8.5l.94-2.06 2.06-.94-2.06-.94L8.5 2.5l-.94 2.06-2.06.94zm10 10l.94 2.06.94-2.06 2.06-.94-2.06-.94-.94-2.06-.94 2.06-2.06.94z\"/><path d=\"M17.41 7.96l-1.37-1.37c-.4-.4-.92-.59-1.43-.59-.52 0-1.04.2-1.43.59L10.3 9.45l-7.72 7.72c-.78.78-.78 2.05 0 2.83L4 21.41c.39.39.9.59 1.41.59.51 0 1.02-.2 1.41-.59l7.78-7.78 2.81-2.81c.8-.78.8-2.07 0-2.86zM5.41 20L4 18.59l7.72-7.72 1.47 1.35L5.41 20z\"/>\n",
              "  </svg>\n",
              "      </button>\n",
              "      \n",
              "  <style>\n",
              "    .colab-df-container {\n",
              "      display:flex;\n",
              "      flex-wrap:wrap;\n",
              "      gap: 12px;\n",
              "    }\n",
              "\n",
              "    .colab-df-convert {\n",
              "      background-color: #E8F0FE;\n",
              "      border: none;\n",
              "      border-radius: 50%;\n",
              "      cursor: pointer;\n",
              "      display: none;\n",
              "      fill: #1967D2;\n",
              "      height: 32px;\n",
              "      padding: 0 0 0 0;\n",
              "      width: 32px;\n",
              "    }\n",
              "\n",
              "    .colab-df-convert:hover {\n",
              "      background-color: #E2EBFA;\n",
              "      box-shadow: 0px 1px 2px rgba(60, 64, 67, 0.3), 0px 1px 3px 1px rgba(60, 64, 67, 0.15);\n",
              "      fill: #174EA6;\n",
              "    }\n",
              "\n",
              "    [theme=dark] .colab-df-convert {\n",
              "      background-color: #3B4455;\n",
              "      fill: #D2E3FC;\n",
              "    }\n",
              "\n",
              "    [theme=dark] .colab-df-convert:hover {\n",
              "      background-color: #434B5C;\n",
              "      box-shadow: 0px 1px 3px 1px rgba(0, 0, 0, 0.15);\n",
              "      filter: drop-shadow(0px 1px 2px rgba(0, 0, 0, 0.3));\n",
              "      fill: #FFFFFF;\n",
              "    }\n",
              "  </style>\n",
              "\n",
              "      <script>\n",
              "        const buttonEl =\n",
              "          document.querySelector('#df-5642917f-00d2-4250-ab40-57a3439103f6 button.colab-df-convert');\n",
              "        buttonEl.style.display =\n",
              "          google.colab.kernel.accessAllowed ? 'block' : 'none';\n",
              "\n",
              "        async function convertToInteractive(key) {\n",
              "          const element = document.querySelector('#df-5642917f-00d2-4250-ab40-57a3439103f6');\n",
              "          const dataTable =\n",
              "            await google.colab.kernel.invokeFunction('convertToInteractive',\n",
              "                                                     [key], {});\n",
              "          if (!dataTable) return;\n",
              "\n",
              "          const docLinkHtml = 'Like what you see? Visit the ' +\n",
              "            '<a target=\"_blank\" href=https://colab.research.google.com/notebooks/data_table.ipynb>data table notebook</a>'\n",
              "            + ' to learn more about interactive tables.';\n",
              "          element.innerHTML = '';\n",
              "          dataTable['output_type'] = 'display_data';\n",
              "          await google.colab.output.renderOutput(dataTable, element);\n",
              "          const docLink = document.createElement('div');\n",
              "          docLink.innerHTML = docLinkHtml;\n",
              "          element.appendChild(docLink);\n",
              "        }\n",
              "      </script>\n",
              "    </div>\n",
              "  </div>\n",
              "  "
            ]
          },
          "metadata": {},
          "execution_count": 3
        }
      ]
    },
    {
      "cell_type": "code",
      "source": [
        "model_1 = ConcreteModel()   #create the model"
      ],
      "metadata": {
        "id": "7jtf2DudZodJ"
      },
      "execution_count": null,
      "outputs": []
    },
    {
      "cell_type": "code",
      "source": [
        "row_indices = np.arange(6)"
      ],
      "metadata": {
        "id": "YJygBpjIZrj6"
      },
      "execution_count": null,
      "outputs": []
    },
    {
      "cell_type": "code",
      "source": [
        "#declare decision variables\n",
        "model_1.a0 = Var(domain=NonNegativeReals)\n",
        "model_1.a1 = Var(domain=Reals)\n",
        "model_1.a2 = Var(domain=Reals)\n",
        "model_1.b = Var(row_indices, domain=NonNegativeReals)"
      ],
      "metadata": {
        "id": "uI_cCkrnZw8G"
      },
      "execution_count": null,
      "outputs": []
    },
    {
      "cell_type": "code",
      "source": [
        "#declare objective function\n",
        "model_1.obj = Objective(expr=sum(model_1.b[i] for i in range(6)), sense = minimize)"
      ],
      "metadata": {
        "id": "DzmmPoaAadVR"
      },
      "execution_count": null,
      "outputs": []
    },
    {
      "cell_type": "code",
      "source": [
        "#declare the constraints\n",
        "model_1.constraints = ConstraintList()"
      ],
      "metadata": {
        "id": "3VbVHFRubEp_"
      },
      "execution_count": null,
      "outputs": []
    },
    {
      "cell_type": "code",
      "source": [
        "for i in row_indices:\n",
        "  model_1.constraints.add(expr = (model_1.b[i] - (df['Ri'][i] - (model_1.a0 + model_1.a1*df['Ti'][i] + model_1.a2*df['Di'][i]))) >= 0)\n",
        "  model_1.constraints.add(expr = (model_1.b[i] + (df['Ri'][i] - (model_1.a0 + model_1.a1*df['Ti'][i] + model_1.a2*df['Di'][i]))) >= 0)"
      ],
      "metadata": {
        "id": "TJKKyGe-bO6_"
      },
      "execution_count": null,
      "outputs": []
    },
    {
      "cell_type": "code",
      "source": [
        "model_1.pprint()"
      ],
      "metadata": {
        "colab": {
          "base_uri": "https://localhost:8080/"
        },
        "id": "NA1j-sNhca1v",
        "outputId": "90fa5ae4-521d-4510-d310-708fdc8c1a49"
      },
      "execution_count": null,
      "outputs": [
        {
          "output_type": "stream",
          "name": "stdout",
          "text": [
            "2 Set Declarations\n",
            "    b_index : Size=1, Index=None, Ordered=False\n",
            "        Key  : Dimen : Domain : Size : Members\n",
            "        None :     1 :    Any :    6 : {0, 1, 2, 3, 4, 5}\n",
            "    constraints_index : Size=1, Index=None, Ordered=Insertion\n",
            "        Key  : Dimen : Domain : Size : Members\n",
            "        None :     1 :    Any :   12 : {1, 2, 3, 4, 5, 6, 7, 8, 9, 10, 11, 12}\n",
            "\n",
            "4 Var Declarations\n",
            "    a0 : Size=1, Index=None\n",
            "        Key  : Lower : Value : Upper : Fixed : Stale : Domain\n",
            "        None :     0 :  None :  None : False :  True : NonNegativeReals\n",
            "    a1 : Size=1, Index=None\n",
            "        Key  : Lower : Value : Upper : Fixed : Stale : Domain\n",
            "        None :  None :  None :  None : False :  True :  Reals\n",
            "    a2 : Size=1, Index=None\n",
            "        Key  : Lower : Value : Upper : Fixed : Stale : Domain\n",
            "        None :  None :  None :  None : False :  True :  Reals\n",
            "    b : Size=6, Index=b_index\n",
            "        Key : Lower : Value : Upper : Fixed : Stale : Domain\n",
            "          0 :     0 :  None :  None : False :  True : NonNegativeReals\n",
            "          1 :     0 :  None :  None : False :  True : NonNegativeReals\n",
            "          2 :     0 :  None :  None : False :  True : NonNegativeReals\n",
            "          3 :     0 :  None :  None : False :  True : NonNegativeReals\n",
            "          4 :     0 :  None :  None : False :  True : NonNegativeReals\n",
            "          5 :     0 :  None :  None : False :  True : NonNegativeReals\n",
            "\n",
            "1 Objective Declarations\n",
            "    obj : Size=1, Index=None, Active=True\n",
            "        Key  : Active : Sense    : Expression\n",
            "        None :   True : minimize : b[0] + b[1] + b[2] + b[3] + b[4] + b[5]\n",
            "\n",
            "1 Constraint Declarations\n",
            "    constraints : Size=12, Index=constraints_index, Active=True\n",
            "        Key : Lower : Body                                                   : Upper : Active\n",
            "          1 :   0.0 :  b[0] - (175 - (a0 + 2.962962963*a1 + 0.024338624*a2)) :  +Inf :   True\n",
            "          2 :   0.0 :    175 - (a0 + 2.962962963*a1 + 0.024338624*a2) + b[0] :  +Inf :   True\n",
            "          3 :   0.0 :       b[1] - (450 - (a0 + 4.6875*a1 + 0.048076923*a2)) :  +Inf :   True\n",
            "          4 :   0.0 :         450 - (a0 + 4.6875*a1 + 0.048076923*a2) + b[1] :  +Inf :   True\n",
            "          5 :   0.0 : b[2] - (1050 - (a0 + 12.40657698*a1 + 0.038863976*a2)) :  +Inf :   True\n",
            "          6 :   0.0 :   1050 - (a0 + 12.40657698*a1 + 0.038863976*a2) + b[2] :  +Inf :   True\n",
            "          7 :   0.0 :             b[3] - (900 - (a0 + 45.5625*a1 + 0.08*a2)) :  +Inf :   True\n",
            "          8 :   0.0 :               900 - (a0 + 45.5625*a1 + 0.08*a2) + b[3] :  +Inf :   True\n",
            "          9 :   0.0 :   b[4] - (19 - (a0 + 0.469230769*a1 + 0.005128205*a2)) :  +Inf :   True\n",
            "         10 :   0.0 :     19 - (a0 + 0.469230769*a1 + 0.005128205*a2) + b[4] :  +Inf :   True\n",
            "         11 :   0.0 :  b[5] - (3550 - (a0 + 7.692307692*a1 + 0.02997003*a2)) :  +Inf :   True\n",
            "         12 :   0.0 :    3550 - (a0 + 7.692307692*a1 + 0.02997003*a2) + b[5] :  +Inf :   True\n",
            "\n",
            "8 Declarations: a0 a1 a2 b_index b obj constraints_index constraints\n"
          ]
        }
      ]
    },
    {
      "cell_type": "code",
      "source": [
        "!apt-get install -y -qq coinor-cbc"
      ],
      "metadata": {
        "id": "fjKdzsALdNf4"
      },
      "execution_count": null,
      "outputs": []
    },
    {
      "cell_type": "code",
      "source": [
        "opt_cbc = SolverFactory('cbc')"
      ],
      "metadata": {
        "id": "Xw-PyxjsdPdw"
      },
      "execution_count": null,
      "outputs": []
    },
    {
      "cell_type": "code",
      "source": [
        "result = opt_cbc.solve(model_1)\n",
        "print(result)"
      ],
      "metadata": {
        "colab": {
          "base_uri": "https://localhost:8080/"
        },
        "id": "A2JiTeJ-gDDu",
        "outputId": "fbc2ad3c-efdf-46a8-8091-e3bb8cf3b520"
      },
      "execution_count": null,
      "outputs": [
        {
          "output_type": "stream",
          "name": "stdout",
          "text": [
            "\n",
            "Problem: \n",
            "- Name: unknown\n",
            "  Lower bound: 3986.158702\n",
            "  Upper bound: 3986.158702\n",
            "  Number of objectives: 1\n",
            "  Number of constraints: 13\n",
            "  Number of variables: 10\n",
            "  Number of nonzeros: 6\n",
            "  Sense: minimize\n",
            "Solver: \n",
            "- Status: ok\n",
            "  User time: -1.0\n",
            "  System time: 0.0\n",
            "  Wallclock time: 0.0\n",
            "  Termination condition: optimal\n",
            "  Termination message: Model was solved to optimality (subject to tolerances), and an optimal solution is available.\n",
            "  Statistics: \n",
            "    Branch and bound: \n",
            "      Number of bounded subproblems: None\n",
            "      Number of created subproblems: None\n",
            "    Black box: \n",
            "      Number of iterations: 7\n",
            "  Error rc: 0\n",
            "  Time: 0.024248361587524414\n",
            "Solution: \n",
            "- number of solutions: 0\n",
            "  number of solutions displayed: 0\n",
            "\n"
          ]
        }
      ]
    },
    {
      "cell_type": "code",
      "source": [
        "#display solution\n",
        "print('\\nObjective = ', model_1.obj())\n",
        "\n",
        "print('\\nDecision Variables')\n",
        "print('a0 = ', model_1.a0())\n",
        "print('a1 = ', model_1.a1())\n",
        "print('a2 = ', model_1.a2())\n",
        "\n",
        "print('\\nConstraints')\n",
        "model_1.constraints.display()"
      ],
      "metadata": {
        "id": "qy4BMnYWjNqp",
        "colab": {
          "base_uri": "https://localhost:8080/"
        },
        "outputId": "9580cec3-3d5e-477d-c268-c16b93d59587"
      },
      "execution_count": null,
      "outputs": [
        {
          "output_type": "stream",
          "name": "stdout",
          "text": [
            "\n",
            "Objective =  3986.158753\n",
            "\n",
            "Decision Variables\n",
            "a0 =  0.0\n",
            "a1 =  4.0039722\n",
            "a2 =  8969.6127\n",
            "\n",
            "Constraints\n",
            "constraints : Size=12\n",
            "    Key : Lower : Body                    : Upper\n",
            "      1 :   0.0 :      110.34330526440641 :  None\n",
            "      2 :   0.0 :   7.355935807140668e-07 :  None\n",
            "      3 :   0.0 : -1.1947778943977028e-06 :  None\n",
            "      4 :   0.0 :  1.1947778943977028e-06 :  None\n",
            "      5 :   0.0 :   2.027175128205272e-06 :  None\n",
            "      6 :   0.0 :      1303.4591979728248 :  None\n",
            "      7 :   0.0 :  -6.374999657055014e-07 :  None\n",
            "      8 :   0.0 :   6.374999657055014e-07 :  None\n",
            "      9 :   0.0 :       57.75359965066413 :  None\n",
            "     10 :   0.0 :  3.4933587400587385e-07 :  None\n",
            "     11 :   0.0 :   4.785999544765218e-05 :  None\n",
            "     12 :   0.0 :       6500.761352140005 :  None\n"
          ]
        }
      ]
    },
    {
      "cell_type": "code",
      "source": [
        "#concatenate the forecasted column when p=1 in df\n",
        "for i in row_indices:\n",
        "  df.loc[i, 'R1']=model_1.a0.value+model_1.a1.value*df['Ti'][i]+model_1.a2.value*df['Di'][i]"
      ],
      "metadata": {
        "id": "nIyEcta_nQ_c"
      },
      "execution_count": null,
      "outputs": []
    },
    {
      "cell_type": "code",
      "source": [
        "model_2 = ConcreteModel()"
      ],
      "metadata": {
        "id": "YLP8ozhkpeZ9"
      },
      "execution_count": null,
      "outputs": []
    },
    {
      "cell_type": "code",
      "source": [
        "#set initial values\n",
        "model_2.a0 = Var(domain=NonNegativeReals, initialize=0)\n",
        "model_2.a1 = Var(domain=Reals, initialize=4)\n",
        "model_2.a2 =Var(domain=Reals, initialize=8900)\n",
        "model_2.b = Var(row_indices, domain=NonNegativeReals)"
      ],
      "metadata": {
        "id": "I6yR5qtLuuWX"
      },
      "execution_count": null,
      "outputs": []
    },
    {
      "cell_type": "code",
      "source": [
        "def func(model_2):\n",
        "  value=0\n",
        "  for i in row_indices:\n",
        "    value=value+((abs(df['Ri'][i]-(model_2.a0+model_2.a1*df['Ti'][i]+model_2.a2*df['Di'][i])))**1.5)\n",
        "  return value"
      ],
      "metadata": {
        "id": "t_oyRVxQvV_B"
      },
      "execution_count": null,
      "outputs": []
    },
    {
      "cell_type": "code",
      "source": [
        "model_2.obj = Objective(rule=func, sense = minimize)"
      ],
      "metadata": {
        "id": "U_oPE9J2vOmU"
      },
      "execution_count": null,
      "outputs": []
    },
    {
      "cell_type": "code",
      "source": [
        "model_2.pprint()"
      ],
      "metadata": {
        "colab": {
          "base_uri": "https://localhost:8080/"
        },
        "id": "GvMiwVerwCZw",
        "outputId": "32c8a11d-9fbe-47a3-b0e8-a7e28e6b33ef"
      },
      "execution_count": null,
      "outputs": [
        {
          "output_type": "stream",
          "name": "stdout",
          "text": [
            "1 Set Declarations\n",
            "    b_index : Size=1, Index=None, Ordered=False\n",
            "        Key  : Dimen : Domain : Size : Members\n",
            "        None :     1 :    Any :    6 : {0, 1, 2, 3, 4, 5}\n",
            "\n",
            "4 Var Declarations\n",
            "    a0 : Size=1, Index=None\n",
            "        Key  : Lower : Value : Upper : Fixed : Stale : Domain\n",
            "        None :     0 :     0 :  None : False : False : NonNegativeReals\n",
            "    a1 : Size=1, Index=None\n",
            "        Key  : Lower : Value : Upper : Fixed : Stale : Domain\n",
            "        None :  None :     4 :  None : False : False :  Reals\n",
            "    a2 : Size=1, Index=None\n",
            "        Key  : Lower : Value : Upper : Fixed : Stale : Domain\n",
            "        None :  None :  8900 :  None : False : False :  Reals\n",
            "    b : Size=6, Index=b_index\n",
            "        Key : Lower : Value : Upper : Fixed : Stale : Domain\n",
            "          0 :     0 :  None :  None : False :  True : NonNegativeReals\n",
            "          1 :     0 :  None :  None : False :  True : NonNegativeReals\n",
            "          2 :     0 :  None :  None : False :  True : NonNegativeReals\n",
            "          3 :     0 :  None :  None : False :  True : NonNegativeReals\n",
            "          4 :     0 :  None :  None : False :  True : NonNegativeReals\n",
            "          5 :     0 :  None :  None : False :  True : NonNegativeReals\n",
            "\n",
            "1 Objective Declarations\n",
            "    obj : Size=1, Index=None, Active=True\n",
            "        Key  : Active : Sense    : Expression\n",
            "        None :   True : minimize : abs(175 - (a0 + 2.962962963*a1 + 0.024338624*a2))**1.5 + abs(450 - (a0 + 4.6875*a1 + 0.048076923*a2))**1.5 + abs(1050 - (a0 + 12.40657698*a1 + 0.038863976*a2))**1.5 + abs(900 - (a0 + 45.5625*a1 + 0.08*a2))**1.5 + abs(19 - (a0 + 0.469230769*a1 + 0.005128205*a2))**1.5 + abs(3550 - (a0 + 7.692307692*a1 + 0.02997003*a2))**1.5\n",
            "\n",
            "6 Declarations: a0 a1 a2 b_index b obj\n"
          ]
        }
      ]
    },
    {
      "cell_type": "code",
      "source": [
        "!wget -N -q \"https://ampl.com/dl/open/ipopt/ipopt-linux64.zip\"\n",
        "!unzip -o -q ipopt-linux64"
      ],
      "metadata": {
        "id": "Ktoqw-55wIV9"
      },
      "execution_count": null,
      "outputs": []
    },
    {
      "cell_type": "code",
      "source": [
        "solver = SolverFactory('ipopt', executable='/content/ipopt')\n",
        "results = solver.solve(model_2)\n",
        "print(results)"
      ],
      "metadata": {
        "colab": {
          "base_uri": "https://localhost:8080/"
        },
        "id": "-BVjQcC4wP18",
        "outputId": "60ff62ca-83ec-4c35-a12e-ecb244363a1f"
      },
      "execution_count": null,
      "outputs": [
        {
          "output_type": "stream",
          "name": "stdout",
          "text": [
            "\n",
            "Problem: \n",
            "- Lower bound: -inf\n",
            "  Upper bound: inf\n",
            "  Number of objectives: 1\n",
            "  Number of constraints: 0\n",
            "  Number of variables: 3\n",
            "  Sense: unknown\n",
            "Solver: \n",
            "- Status: ok\n",
            "  Message: Ipopt 3.12.13\\x3a Optimal Solution Found\n",
            "  Termination condition: optimal\n",
            "  Id: 0\n",
            "  Error rc: 0\n",
            "  Time: 0.018645048141479492\n",
            "Solution: \n",
            "- number of solutions: 0\n",
            "  number of solutions displayed: 0\n",
            "\n"
          ]
        }
      ]
    },
    {
      "cell_type": "code",
      "source": [
        "#display solution\n",
        "print('\\nObjective = ', model_2.obj())\n",
        "\n",
        "print('\\nDecision Variables')\n",
        "print('a0 = ', model_2.a0())\n",
        "print('a1 = ', model_2.a1())\n",
        "print('a2 = ', model_2.a2())"
      ],
      "metadata": {
        "id": "uKoUhVXLw6Gc",
        "colab": {
          "base_uri": "https://localhost:8080/"
        },
        "outputId": "30d792aa-1729-4bb3-c65c-19e3971a0e55"
      },
      "execution_count": null,
      "outputs": [
        {
          "output_type": "stream",
          "name": "stdout",
          "text": [
            "\n",
            "Objective =  188066.92403421344\n",
            "\n",
            "Decision Variables\n",
            "a0 =  503.74058049349685\n",
            "a1 =  2.723598706569999\n",
            "a2 =  4802.720279141072\n"
          ]
        }
      ]
    },
    {
      "cell_type": "code",
      "source": [
        "#concatenate the column for forecasted revenue when p=2 in df\n",
        "for i in row_indices:\n",
        "  df.loc[i, 'R2']=model_2.a0.value+model_2.a1.value*df['Ti'][i]+model_2.a2.value*df['Di'][i]"
      ],
      "metadata": {
        "id": "jqHQzjuwnTKI"
      },
      "execution_count": null,
      "outputs": []
    },
    {
      "cell_type": "code",
      "source": [
        "def function(model_2):\n",
        "  value=0\n",
        "  for i in row_indices:\n",
        "    value=value+((abs(df['Ri'][i]-(model_2.a0+model_2.a1*df['Ti'][i]+model_2.a2*df['Di'][i])))**2)\n",
        "  return value"
      ],
      "metadata": {
        "id": "psb3H1gZw9-T"
      },
      "execution_count": null,
      "outputs": []
    },
    {
      "cell_type": "code",
      "source": [
        "model_2.obj.deactivate()   #deactivate old objective\n",
        "model_2.obj1=Objective(rule=function, sense=minimize)"
      ],
      "metadata": {
        "id": "g2AOaXDqxjok",
        "colab": {
          "base_uri": "https://localhost:8080/"
        },
        "outputId": "fd9dda89-4310-4a08-88c4-f4f12f1649f3"
      },
      "execution_count": null,
      "outputs": [
        {
          "output_type": "stream",
          "name": "stderr",
          "text": [
            "WARNING:pyomo.core:Implicitly replacing the Component attribute obj1 (type=<class 'pyomo.core.base.objective.ScalarObjective'>) on block unknown with a new Component (type=<class 'pyomo.core.base.objective.ScalarObjective'>).\n",
            "This is usually indicative of a modelling error.\n",
            "To avoid this warning, use block.del_component() and block.add_component().\n"
          ]
        }
      ]
    },
    {
      "cell_type": "code",
      "source": [
        "model_2.pprint()"
      ],
      "metadata": {
        "colab": {
          "base_uri": "https://localhost:8080/"
        },
        "id": "GKFaDi4LphKi",
        "outputId": "70f93191-ac98-4858-9901-6231076201e1"
      },
      "execution_count": null,
      "outputs": [
        {
          "output_type": "stream",
          "name": "stdout",
          "text": [
            "1 Set Declarations\n",
            "    b_index : Size=1, Index=None, Ordered=False\n",
            "        Key  : Dimen : Domain : Size : Members\n",
            "        None :     1 :    Any :    6 : {0, 1, 2, 3, 4, 5}\n",
            "\n",
            "4 Var Declarations\n",
            "    a0 : Size=1, Index=None\n",
            "        Key  : Lower : Value              : Upper : Fixed : Stale : Domain\n",
            "        None :     0 : 503.74058049349685 :  None : False : False : NonNegativeReals\n",
            "    a1 : Size=1, Index=None\n",
            "        Key  : Lower : Value             : Upper : Fixed : Stale : Domain\n",
            "        None :  None : 2.723598706569999 :  None : False : False :  Reals\n",
            "    a2 : Size=1, Index=None\n",
            "        Key  : Lower : Value             : Upper : Fixed : Stale : Domain\n",
            "        None :  None : 4802.720279141072 :  None : False : False :  Reals\n",
            "    b : Size=6, Index=b_index\n",
            "        Key : Lower : Value : Upper : Fixed : Stale : Domain\n",
            "          0 :     0 :  None :  None : False :  True : NonNegativeReals\n",
            "          1 :     0 :  None :  None : False :  True : NonNegativeReals\n",
            "          2 :     0 :  None :  None : False :  True : NonNegativeReals\n",
            "          3 :     0 :  None :  None : False :  True : NonNegativeReals\n",
            "          4 :     0 :  None :  None : False :  True : NonNegativeReals\n",
            "          5 :     0 :  None :  None : False :  True : NonNegativeReals\n",
            "\n",
            "2 Objective Declarations\n",
            "    obj : Size=1, Index=None, Active=False\n",
            "        Key  : Active : Sense    : Expression\n",
            "        None :  False : minimize : abs(175 - (a0 + 2.962962963*a1 + 0.024338624*a2))**1.5 + abs(450 - (a0 + 4.6875*a1 + 0.048076923*a2))**1.5 + abs(1050 - (a0 + 12.40657698*a1 + 0.038863976*a2))**1.5 + abs(900 - (a0 + 45.5625*a1 + 0.08*a2))**1.5 + abs(19 - (a0 + 0.469230769*a1 + 0.005128205*a2))**1.5 + abs(3550 - (a0 + 7.692307692*a1 + 0.02997003*a2))**1.5\n",
            "    obj1 : Size=1, Index=None, Active=True\n",
            "        Key  : Active : Sense    : Expression\n",
            "        None :   True : minimize : abs(175 - (a0 + 2.962962963*a1 + 0.024338624*a2))**2 + abs(450 - (a0 + 4.6875*a1 + 0.048076923*a2))**2 + abs(1050 - (a0 + 12.40657698*a1 + 0.038863976*a2))**2 + abs(900 - (a0 + 45.5625*a1 + 0.08*a2))**2 + abs(19 - (a0 + 0.469230769*a1 + 0.005128205*a2))**2 + abs(3550 - (a0 + 7.692307692*a1 + 0.02997003*a2))**2\n",
            "\n",
            "7 Declarations: a0 a1 a2 b_index b obj obj1\n"
          ]
        }
      ]
    },
    {
      "cell_type": "code",
      "source": [
        "results =solver.solve(model_2)\n",
        "print(results)"
      ],
      "metadata": {
        "colab": {
          "base_uri": "https://localhost:8080/"
        },
        "id": "hYxja308yMEw",
        "outputId": "ef7b3e7b-0583-4e67-9059-e219514419b7"
      },
      "execution_count": null,
      "outputs": [
        {
          "output_type": "stream",
          "name": "stdout",
          "text": [
            "\n",
            "Problem: \n",
            "- Lower bound: -inf\n",
            "  Upper bound: inf\n",
            "  Number of objectives: 1\n",
            "  Number of constraints: 0\n",
            "  Number of variables: 3\n",
            "  Sense: unknown\n",
            "Solver: \n",
            "- Status: ok\n",
            "  Message: Ipopt 3.12.13\\x3a Optimal Solution Found\n",
            "  Termination condition: optimal\n",
            "  Id: 0\n",
            "  Error rc: 0\n",
            "  Time: 0.022211790084838867\n",
            "Solution: \n",
            "- number of solutions: 0\n",
            "  number of solutions displayed: 0\n",
            "\n"
          ]
        }
      ]
    },
    {
      "cell_type": "code",
      "source": [
        "#display solution\n",
        "print('\\nObjective = ', model_2.obj1())\n",
        "\n",
        "print('\\nDecision Variables')\n",
        "print('a0 = ', model_2.a0())\n",
        "print('a1 = ', model_2.a1())\n",
        "print('a2 = ', model_2.a2())"
      ],
      "metadata": {
        "id": "COMkLBSjyhhv",
        "colab": {
          "base_uri": "https://localhost:8080/"
        },
        "outputId": "4b36536b-3d25-4f4e-907c-c48e6d5d8114"
      },
      "execution_count": null,
      "outputs": [
        {
          "output_type": "stream",
          "name": "stdout",
          "text": [
            "\n",
            "Objective =  8399946.934010398\n",
            "\n",
            "Decision Variables\n",
            "a0 =  884.3228326047202\n",
            "a1 =  1.856236216800654\n",
            "a2 =  3097.070581130479\n"
          ]
        }
      ]
    },
    {
      "cell_type": "code",
      "source": [
        "for i in row_indices:\n",
        "  df.loc[i, 'R3']=model_2.a0.value+model_2.a1.value*df['Ti'][i]+model_2.a2.value*df['Di'][i]"
      ],
      "metadata": {
        "id": "LSwzkA9nnsFd"
      },
      "execution_count": null,
      "outputs": []
    },
    {
      "cell_type": "code",
      "source": [
        "df"
      ],
      "metadata": {
        "colab": {
          "base_uri": "https://localhost:8080/",
          "height": 237
        },
        "id": "0TXhwffVnaUm",
        "outputId": "1a294758-6b3b-4d39-c573-95a95ca390b0"
      },
      "execution_count": null,
      "outputs": [
        {
          "output_type": "execute_result",
          "data": {
            "text/plain": [
              "   i    Ri    Vi     Bi   Ai         Ti        Di          R1           R2  \\\n",
              "0  1   175   945   2800   23   2.962963  0.024339  230.171652   628.702106   \n",
              "1  2   450   832   3900   40   4.687500  0.048077  449.999999   747.407462   \n",
              "2  3  1050  2007  24900   78  12.406577  0.038864  398.270402   724.183923   \n",
              "3  4   900   800  36450   64  45.562500  0.080000  899.999999  1012.052169   \n",
              "4  5    19   780    366    4   0.469231  0.005128   47.876800   529.647911   \n",
              "5  6  3550  5005  38500  150   7.692308  0.029970  299.619348   668.629011   \n",
              "\n",
              "            R3  \n",
              "0   965.201228  \n",
              "1  1041.921564  \n",
              "2  1027.716847  \n",
              "3  1216.663242  \n",
              "4   901.076249  \n",
              "5   991.420871  "
            ],
            "text/html": [
              "\n",
              "  <div id=\"df-cb9e0517-b70b-4603-8366-0ddd7fafbdf3\">\n",
              "    <div class=\"colab-df-container\">\n",
              "      <div>\n",
              "<style scoped>\n",
              "    .dataframe tbody tr th:only-of-type {\n",
              "        vertical-align: middle;\n",
              "    }\n",
              "\n",
              "    .dataframe tbody tr th {\n",
              "        vertical-align: top;\n",
              "    }\n",
              "\n",
              "    .dataframe thead th {\n",
              "        text-align: right;\n",
              "    }\n",
              "</style>\n",
              "<table border=\"1\" class=\"dataframe\">\n",
              "  <thead>\n",
              "    <tr style=\"text-align: right;\">\n",
              "      <th></th>\n",
              "      <th>i</th>\n",
              "      <th>Ri</th>\n",
              "      <th>Vi</th>\n",
              "      <th>Bi</th>\n",
              "      <th>Ai</th>\n",
              "      <th>Ti</th>\n",
              "      <th>Di</th>\n",
              "      <th>R1</th>\n",
              "      <th>R2</th>\n",
              "      <th>R3</th>\n",
              "    </tr>\n",
              "  </thead>\n",
              "  <tbody>\n",
              "    <tr>\n",
              "      <th>0</th>\n",
              "      <td>1</td>\n",
              "      <td>175</td>\n",
              "      <td>945</td>\n",
              "      <td>2800</td>\n",
              "      <td>23</td>\n",
              "      <td>2.962963</td>\n",
              "      <td>0.024339</td>\n",
              "      <td>230.171652</td>\n",
              "      <td>628.702106</td>\n",
              "      <td>965.201228</td>\n",
              "    </tr>\n",
              "    <tr>\n",
              "      <th>1</th>\n",
              "      <td>2</td>\n",
              "      <td>450</td>\n",
              "      <td>832</td>\n",
              "      <td>3900</td>\n",
              "      <td>40</td>\n",
              "      <td>4.687500</td>\n",
              "      <td>0.048077</td>\n",
              "      <td>449.999999</td>\n",
              "      <td>747.407462</td>\n",
              "      <td>1041.921564</td>\n",
              "    </tr>\n",
              "    <tr>\n",
              "      <th>2</th>\n",
              "      <td>3</td>\n",
              "      <td>1050</td>\n",
              "      <td>2007</td>\n",
              "      <td>24900</td>\n",
              "      <td>78</td>\n",
              "      <td>12.406577</td>\n",
              "      <td>0.038864</td>\n",
              "      <td>398.270402</td>\n",
              "      <td>724.183923</td>\n",
              "      <td>1027.716847</td>\n",
              "    </tr>\n",
              "    <tr>\n",
              "      <th>3</th>\n",
              "      <td>4</td>\n",
              "      <td>900</td>\n",
              "      <td>800</td>\n",
              "      <td>36450</td>\n",
              "      <td>64</td>\n",
              "      <td>45.562500</td>\n",
              "      <td>0.080000</td>\n",
              "      <td>899.999999</td>\n",
              "      <td>1012.052169</td>\n",
              "      <td>1216.663242</td>\n",
              "    </tr>\n",
              "    <tr>\n",
              "      <th>4</th>\n",
              "      <td>5</td>\n",
              "      <td>19</td>\n",
              "      <td>780</td>\n",
              "      <td>366</td>\n",
              "      <td>4</td>\n",
              "      <td>0.469231</td>\n",
              "      <td>0.005128</td>\n",
              "      <td>47.876800</td>\n",
              "      <td>529.647911</td>\n",
              "      <td>901.076249</td>\n",
              "    </tr>\n",
              "    <tr>\n",
              "      <th>5</th>\n",
              "      <td>6</td>\n",
              "      <td>3550</td>\n",
              "      <td>5005</td>\n",
              "      <td>38500</td>\n",
              "      <td>150</td>\n",
              "      <td>7.692308</td>\n",
              "      <td>0.029970</td>\n",
              "      <td>299.619348</td>\n",
              "      <td>668.629011</td>\n",
              "      <td>991.420871</td>\n",
              "    </tr>\n",
              "  </tbody>\n",
              "</table>\n",
              "</div>\n",
              "      <button class=\"colab-df-convert\" onclick=\"convertToInteractive('df-cb9e0517-b70b-4603-8366-0ddd7fafbdf3')\"\n",
              "              title=\"Convert this dataframe to an interactive table.\"\n",
              "              style=\"display:none;\">\n",
              "        \n",
              "  <svg xmlns=\"http://www.w3.org/2000/svg\" height=\"24px\"viewBox=\"0 0 24 24\"\n",
              "       width=\"24px\">\n",
              "    <path d=\"M0 0h24v24H0V0z\" fill=\"none\"/>\n",
              "    <path d=\"M18.56 5.44l.94 2.06.94-2.06 2.06-.94-2.06-.94-.94-2.06-.94 2.06-2.06.94zm-11 1L8.5 8.5l.94-2.06 2.06-.94-2.06-.94L8.5 2.5l-.94 2.06-2.06.94zm10 10l.94 2.06.94-2.06 2.06-.94-2.06-.94-.94-2.06-.94 2.06-2.06.94z\"/><path d=\"M17.41 7.96l-1.37-1.37c-.4-.4-.92-.59-1.43-.59-.52 0-1.04.2-1.43.59L10.3 9.45l-7.72 7.72c-.78.78-.78 2.05 0 2.83L4 21.41c.39.39.9.59 1.41.59.51 0 1.02-.2 1.41-.59l7.78-7.78 2.81-2.81c.8-.78.8-2.07 0-2.86zM5.41 20L4 18.59l7.72-7.72 1.47 1.35L5.41 20z\"/>\n",
              "  </svg>\n",
              "      </button>\n",
              "      \n",
              "  <style>\n",
              "    .colab-df-container {\n",
              "      display:flex;\n",
              "      flex-wrap:wrap;\n",
              "      gap: 12px;\n",
              "    }\n",
              "\n",
              "    .colab-df-convert {\n",
              "      background-color: #E8F0FE;\n",
              "      border: none;\n",
              "      border-radius: 50%;\n",
              "      cursor: pointer;\n",
              "      display: none;\n",
              "      fill: #1967D2;\n",
              "      height: 32px;\n",
              "      padding: 0 0 0 0;\n",
              "      width: 32px;\n",
              "    }\n",
              "\n",
              "    .colab-df-convert:hover {\n",
              "      background-color: #E2EBFA;\n",
              "      box-shadow: 0px 1px 2px rgba(60, 64, 67, 0.3), 0px 1px 3px 1px rgba(60, 64, 67, 0.15);\n",
              "      fill: #174EA6;\n",
              "    }\n",
              "\n",
              "    [theme=dark] .colab-df-convert {\n",
              "      background-color: #3B4455;\n",
              "      fill: #D2E3FC;\n",
              "    }\n",
              "\n",
              "    [theme=dark] .colab-df-convert:hover {\n",
              "      background-color: #434B5C;\n",
              "      box-shadow: 0px 1px 3px 1px rgba(0, 0, 0, 0.15);\n",
              "      filter: drop-shadow(0px 1px 2px rgba(0, 0, 0, 0.3));\n",
              "      fill: #FFFFFF;\n",
              "    }\n",
              "  </style>\n",
              "\n",
              "      <script>\n",
              "        const buttonEl =\n",
              "          document.querySelector('#df-cb9e0517-b70b-4603-8366-0ddd7fafbdf3 button.colab-df-convert');\n",
              "        buttonEl.style.display =\n",
              "          google.colab.kernel.accessAllowed ? 'block' : 'none';\n",
              "\n",
              "        async function convertToInteractive(key) {\n",
              "          const element = document.querySelector('#df-cb9e0517-b70b-4603-8366-0ddd7fafbdf3');\n",
              "          const dataTable =\n",
              "            await google.colab.kernel.invokeFunction('convertToInteractive',\n",
              "                                                     [key], {});\n",
              "          if (!dataTable) return;\n",
              "\n",
              "          const docLinkHtml = 'Like what you see? Visit the ' +\n",
              "            '<a target=\"_blank\" href=https://colab.research.google.com/notebooks/data_table.ipynb>data table notebook</a>'\n",
              "            + ' to learn more about interactive tables.';\n",
              "          element.innerHTML = '';\n",
              "          dataTable['output_type'] = 'display_data';\n",
              "          await google.colab.output.renderOutput(dataTable, element);\n",
              "          const docLink = document.createElement('div');\n",
              "          docLink.innerHTML = docLinkHtml;\n",
              "          element.appendChild(docLink);\n",
              "        }\n",
              "      </script>\n",
              "    </div>\n",
              "  </div>\n",
              "  "
            ]
          },
          "metadata": {},
          "execution_count": 37
        }
      ]
    },
    {
      "cell_type": "markdown",
      "source": [
        "**Plot between forecasted and actual revenue**"
      ],
      "metadata": {
        "id": "CXsuSxA-MU04"
      }
    },
    {
      "cell_type": "code",
      "source": [
        "import matplotlib.pyplot as plt\n",
        "fig,axes=plt.subplots(1,3,figsize=(30,10))\n",
        "axes[0].scatter(x='Ri',y='R1',data=df,color='m',label='p1')\n",
        "axes[0].set_title(\"Actual v/s Predicted R for p=1\")\n",
        "axes[1].scatter(x='Ri',y='R2',data=df,color='b',label='p1.5')\n",
        "axes[1].set_title(\"Actual v/s Predicted for p=1.5\")\n",
        "axes[2].scatter(x='Ri',y='R3',data=df,color='g',label='p2')\n",
        "axes[2].set_title(\"Actual v/s Predicted Value for p=2\")"
      ],
      "metadata": {
        "colab": {
          "base_uri": "https://localhost:8080/",
          "height": 644
        },
        "id": "swriinfvtwPN",
        "outputId": "f35d8cf7-be5b-4765-f6fb-a1879000b821"
      },
      "execution_count": null,
      "outputs": [
        {
          "output_type": "execute_result",
          "data": {
            "text/plain": [
              "Text(0.5, 1.0, 'Actual v/s Predicted Value for p=2')"
            ]
          },
          "metadata": {},
          "execution_count": 41
        },
        {
          "output_type": "display_data",
          "data": {
            "text/plain": [
              "<Figure size 2160x720 with 3 Axes>"
            ],
            "image/png": "[encoded data removed]"
          },
          "metadata": {
            "needs_background": "light"
          }
        }
      ]
    },
    {
      "cell_type": "markdown",
      "source": [
        "**Residual versus forecasted plot**"
      ],
      "metadata": {
        "id": "5ZrEhH80MOLr"
      }
    },
    {
      "cell_type": "code",
      "source": [
        "#calculate the residuals\n",
        "residuals1 = df['Ri']-df['R1']\n",
        "residuals2 = df['Ri']-df['R2']\n",
        "residuals3 = df['Ri']-df['R3']\n",
        "#create a dataframe\n",
        "df1 = pd.DataFrame({'Ri' :df['Ri'], 'R1' : df['R1'], 'Qi(1)' : residuals1, 'R2' : df['R2'], 'Qi(2)' : residuals2, 'R3' : df['R3'], 'Qi(3)' : residuals3})\n",
        "df1.head()"
      ],
      "metadata": {
        "colab": {
          "base_uri": "https://localhost:8080/",
          "height": 206
        },
        "id": "iOYcs25oI3_F",
        "outputId": "bc953d88-45d2-45b4-e0cb-f4b54afc6b78"
      },
      "execution_count": null,
      "outputs": [
        {
          "output_type": "execute_result",
          "data": {
            "text/plain": [
              "     Ri          R1         Qi(1)           R2       Qi(2)           R3  \\\n",
              "0   175  230.171652 -5.517165e+01   628.702106 -453.702106   965.201228   \n",
              "1   450  449.999999  1.194778e-06   747.407462 -297.407462  1041.921564   \n",
              "2  1050  398.270402  6.517296e+02   724.183923  325.816077  1027.716847   \n",
              "3   900  899.999999  6.375000e-07  1012.052169 -112.052169  1216.663242   \n",
              "4    19   47.876800 -2.887680e+01   529.647911 -510.647911   901.076249   \n",
              "\n",
              "        Qi(3)  \n",
              "0 -790.201228  \n",
              "1 -591.921564  \n",
              "2   22.283153  \n",
              "3 -316.663242  \n",
              "4 -882.076249  "
            ],
            "text/html": [
              "\n",
              "  <div id=\"df-c0997ea6-e05c-46fb-8ed5-e278360a214d\">\n",
              "    <div class=\"colab-df-container\">\n",
              "      <div>\n",
              "<style scoped>\n",
              "    .dataframe tbody tr th:only-of-type {\n",
              "        vertical-align: middle;\n",
              "    }\n",
              "\n",
              "    .dataframe tbody tr th {\n",
              "        vertical-align: top;\n",
              "    }\n",
              "\n",
              "    .dataframe thead th {\n",
              "        text-align: right;\n",
              "    }\n",
              "</style>\n",
              "<table border=\"1\" class=\"dataframe\">\n",
              "  <thead>\n",
              "    <tr style=\"text-align: right;\">\n",
              "      <th></th>\n",
              "      <th>Ri</th>\n",
              "      <th>R1</th>\n",
              "      <th>Qi(1)</th>\n",
              "      <th>R2</th>\n",
              "      <th>Qi(2)</th>\n",
              "      <th>R3</th>\n",
              "      <th>Qi(3)</th>\n",
              "    </tr>\n",
              "  </thead>\n",
              "  <tbody>\n",
              "    <tr>\n",
              "      <th>0</th>\n",
              "      <td>175</td>\n",
              "      <td>230.171652</td>\n",
              "      <td>-5.517165e+01</td>\n",
              "      <td>628.702106</td>\n",
              "      <td>-453.702106</td>\n",
              "      <td>965.201228</td>\n",
              "      <td>-790.201228</td>\n",
              "    </tr>\n",
              "    <tr>\n",
              "      <th>1</th>\n",
              "      <td>450</td>\n",
              "      <td>449.999999</td>\n",
              "      <td>1.194778e-06</td>\n",
              "      <td>747.407462</td>\n",
              "      <td>-297.407462</td>\n",
              "      <td>1041.921564</td>\n",
              "      <td>-591.921564</td>\n",
              "    </tr>\n",
              "    <tr>\n",
              "      <th>2</th>\n",
              "      <td>1050</td>\n",
              "      <td>398.270402</td>\n",
              "      <td>6.517296e+02</td>\n",
              "      <td>724.183923</td>\n",
              "      <td>325.816077</td>\n",
              "      <td>1027.716847</td>\n",
              "      <td>22.283153</td>\n",
              "    </tr>\n",
              "    <tr>\n",
              "      <th>3</th>\n",
              "      <td>900</td>\n",
              "      <td>899.999999</td>\n",
              "      <td>6.375000e-07</td>\n",
              "      <td>1012.052169</td>\n",
              "      <td>-112.052169</td>\n",
              "      <td>1216.663242</td>\n",
              "      <td>-316.663242</td>\n",
              "    </tr>\n",
              "    <tr>\n",
              "      <th>4</th>\n",
              "      <td>19</td>\n",
              "      <td>47.876800</td>\n",
              "      <td>-2.887680e+01</td>\n",
              "      <td>529.647911</td>\n",
              "      <td>-510.647911</td>\n",
              "      <td>901.076249</td>\n",
              "      <td>-882.076249</td>\n",
              "    </tr>\n",
              "  </tbody>\n",
              "</table>\n",
              "</div>\n",
              "      <button class=\"colab-df-convert\" onclick=\"convertToInteractive('df-c0997ea6-e05c-46fb-8ed5-e278360a214d')\"\n",
              "              title=\"Convert this dataframe to an interactive table.\"\n",
              "              style=\"display:none;\">\n",
              "        \n",
              "  <svg xmlns=\"http://www.w3.org/2000/svg\" height=\"24px\"viewBox=\"0 0 24 24\"\n",
              "       width=\"24px\">\n",
              "    <path d=\"M0 0h24v24H0V0z\" fill=\"none\"/>\n",
              "    <path d=\"M18.56 5.44l.94 2.06.94-2.06 2.06-.94-2.06-.94-.94-2.06-.94 2.06-2.06.94zm-11 1L8.5 8.5l.94-2.06 2.06-.94-2.06-.94L8.5 2.5l-.94 2.06-2.06.94zm10 10l.94 2.06.94-2.06 2.06-.94-2.06-.94-.94-2.06-.94 2.06-2.06.94z\"/><path d=\"M17.41 7.96l-1.37-1.37c-.4-.4-.92-.59-1.43-.59-.52 0-1.04.2-1.43.59L10.3 9.45l-7.72 7.72c-.78.78-.78 2.05 0 2.83L4 21.41c.39.39.9.59 1.41.59.51 0 1.02-.2 1.41-.59l7.78-7.78 2.81-2.81c.8-.78.8-2.07 0-2.86zM5.41 20L4 18.59l7.72-7.72 1.47 1.35L5.41 20z\"/>\n",
              "  </svg>\n",
              "      </button>\n",
              "      \n",
              "  <style>\n",
              "    .colab-df-container {\n",
              "      display:flex;\n",
              "      flex-wrap:wrap;\n",
              "      gap: 12px;\n",
              "    }\n",
              "\n",
              "    .colab-df-convert {\n",
              "      background-color: #E8F0FE;\n",
              "      border: none;\n",
              "      border-radius: 50%;\n",
              "      cursor: pointer;\n",
              "      display: none;\n",
              "      fill: #1967D2;\n",
              "      height: 32px;\n",
              "      padding: 0 0 0 0;\n",
              "      width: 32px;\n",
              "    }\n",
              "\n",
              "    .colab-df-convert:hover {\n",
              "      background-color: #E2EBFA;\n",
              "      box-shadow: 0px 1px 2px rgba(60, 64, 67, 0.3), 0px 1px 3px 1px rgba(60, 64, 67, 0.15);\n",
              "      fill: #174EA6;\n",
              "    }\n",
              "\n",
              "    [theme=dark] .colab-df-convert {\n",
              "      background-color: #3B4455;\n",
              "      fill: #D2E3FC;\n",
              "    }\n",
              "\n",
              "    [theme=dark] .colab-df-convert:hover {\n",
              "      background-color: #434B5C;\n",
              "      box-shadow: 0px 1px 3px 1px rgba(0, 0, 0, 0.15);\n",
              "      filter: drop-shadow(0px 1px 2px rgba(0, 0, 0, 0.3));\n",
              "      fill: #FFFFFF;\n",
              "    }\n",
              "  </style>\n",
              "\n",
              "      <script>\n",
              "        const buttonEl =\n",
              "          document.querySelector('#df-c0997ea6-e05c-46fb-8ed5-e278360a214d button.colab-df-convert');\n",
              "        buttonEl.style.display =\n",
              "          google.colab.kernel.accessAllowed ? 'block' : 'none';\n",
              "\n",
              "        async function convertToInteractive(key) {\n",
              "          const element = document.querySelector('#df-c0997ea6-e05c-46fb-8ed5-e278360a214d');\n",
              "          const dataTable =\n",
              "            await google.colab.kernel.invokeFunction('convertToInteractive',\n",
              "                                                     [key], {});\n",
              "          if (!dataTable) return;\n",
              "\n",
              "          const docLinkHtml = 'Like what you see? Visit the ' +\n",
              "            '<a target=\"_blank\" href=https://colab.research.google.com/notebooks/data_table.ipynb>data table notebook</a>'\n",
              "            + ' to learn more about interactive tables.';\n",
              "          element.innerHTML = '';\n",
              "          dataTable['output_type'] = 'display_data';\n",
              "          await google.colab.output.renderOutput(dataTable, element);\n",
              "          const docLink = document.createElement('div');\n",
              "          docLink.innerHTML = docLinkHtml;\n",
              "          element.appendChild(docLink);\n",
              "        }\n",
              "      </script>\n",
              "    </div>\n",
              "  </div>\n",
              "  "
            ]
          },
          "metadata": {},
          "execution_count": 47
        }
      ]
    },
    {
      "cell_type": "code",
      "source": [
        "#plot the residuals\n",
        "import seaborn as sns\n",
        "p = sns.scatterplot(df['R1'],residuals1)\n",
        "plt.xlabel('R1')\n",
        "plt.ylabel('Qi(1)')"
      ],
      "metadata": {
        "colab": {
          "base_uri": "https://localhost:8080/",
          "height": 351
        },
        "id": "7bhz0N0kLNyc",
        "outputId": "ff519a25-e2ca-4a35-b716-6f22749ba9ba"
      },
      "execution_count": null,
      "outputs": [
        {
          "output_type": "stream",
          "name": "stderr",
          "text": [
            "/usr/local/lib/python3.7/dist-packages/seaborn/_decorators.py:43: FutureWarning: Pass the following variables as keyword args: x, y. From version 0.12, the only valid positional argument will be `data`, and passing other arguments without an explicit keyword will result in an error or misinterpretation.\n",
            "  FutureWarning\n"
          ]
        },
        {
          "output_type": "execute_result",
          "data": {
            "text/plain": [
              "Text(0, 0.5, 'Qi(1)')"
            ]
          },
          "metadata": {},
          "execution_count": 51
        },
        {
          "output_type": "display_data",
          "data": {
            "text/plain": [
              "<Figure size 432x288 with 1 Axes>"
            ],
            "image/png": "[encoded data removed]"
          },
          "metadata": {
            "needs_background": "light"
          }
        }
      ]
    },
    {
      "cell_type": "code",
      "source": [
        "p = sns.scatterplot(df['R2'],residuals2)\n",
        "plt.xlabel('R2')\n",
        "plt.ylabel('Qi(2)')"
      ],
      "metadata": {
        "colab": {
          "base_uri": "https://localhost:8080/",
          "height": 352
        },
        "id": "mWkr5ojcL39U",
        "outputId": "12b2c2d1-3d2f-466f-b0a4-afd330b7d1e8"
      },
      "execution_count": null,
      "outputs": [
        {
          "output_type": "stream",
          "name": "stderr",
          "text": [
            "/usr/local/lib/python3.7/dist-packages/seaborn/_decorators.py:43: FutureWarning: Pass the following variables as keyword args: x, y. From version 0.12, the only valid positional argument will be `data`, and passing other arguments without an explicit keyword will result in an error or misinterpretation.\n",
            "  FutureWarning\n"
          ]
        },
        {
          "output_type": "execute_result",
          "data": {
            "text/plain": [
              "Text(0, 0.5, 'Qi(2)')"
            ]
          },
          "metadata": {},
          "execution_count": 52
        },
        {
          "output_type": "display_data",
          "data": {
            "text/plain": [
              "<Figure size 432x288 with 1 Axes>"
            ],
            "image/png": "[encoded data removed]"
          },
          "metadata": {
            "needs_background": "light"
          }
        }
      ]
    },
    {
      "cell_type": "code",
      "source": [
        "p = sns.scatterplot(df['R3'],residuals3)\n",
        "plt.xlabel('R3')\n",
        "plt.ylabel('Qi(3)')"
      ],
      "metadata": {
        "colab": {
          "base_uri": "https://localhost:8080/",
          "height": 351
        },
        "id": "oV-YgmxnL4xN",
        "outputId": "f1c5c9fc-05c3-4cd5-9dd8-3a253f089cc8"
      },
      "execution_count": null,
      "outputs": [
        {
          "output_type": "stream",
          "name": "stderr",
          "text": [
            "/usr/local/lib/python3.7/dist-packages/seaborn/_decorators.py:43: FutureWarning: Pass the following variables as keyword args: x, y. From version 0.12, the only valid positional argument will be `data`, and passing other arguments without an explicit keyword will result in an error or misinterpretation.\n",
            "  FutureWarning\n"
          ]
        },
        {
          "output_type": "execute_result",
          "data": {
            "text/plain": [
              "Text(0, 0.5, 'Qi(3)')"
            ]
          },
          "metadata": {},
          "execution_count": 53
        },
        {
          "output_type": "display_data",
          "data": {
            "text/plain": [
              "<Figure size 432x288 with 1 Axes>"
            ],
            "image/png": "[encoded data removed]"
          },
          "metadata": {
            "needs_background": "light"
          }
        }
      ]
    },
    {
      "cell_type": "markdown",
      "source": [
        "**Report on Exercise 2 part 1:**"
      ],
      "metadata": {
        "id": "-hXGMmZXvDRO"
      }
    },
    {
      "cell_type": "markdown",
      "source": [
        "The LP formulation for the problem when p=1 is as follows:\n",
        "\n",
        "$min∑_{i=1}^6|Qi|$\n",
        "\n",
        "$s.t. |Qi|>=Qi$  and  $|Qi|>= -Qi$\n",
        "\n",
        "$a0>=0$\n",
        "\n",
        "$where Qi=Ri−(a0+a1∗Ti+a2∗Di)$\n",
        "\n",
        "$R_i$ is the actual revenue and $Q_i$ is the difference between actual and predicted revenue\n",
        "\n",
        "$T_i$ denotes the daily average view-time per view\n",
        "\n",
        "$D_i$ denotes the daily average number of unskipped ads per view\n",
        "\n",
        "\n"
      ],
      "metadata": {
        "id": "26yj-stzxVV_"
      }
    },
    {
      "cell_type": "markdown",
      "source": [
        "**Report on Exercise 2 part 4:**"
      ],
      "metadata": {
        "id": "y3yCT7jE2HZ0"
      }
    },
    {
      "cell_type": "markdown",
      "source": [
        "Solver Status: ok\n",
        "\n",
        "Solver Termination Condition: Optimal\n",
        "\n",
        "**Objective** =  3986.158753\n",
        "\n",
        "**Decision Variables:**\n",
        "\n",
        "a0 =  0.0\n",
        "\n",
        "a1 =  4.0039722\n",
        "\n",
        "a2 =  8969.6127\n",
        "\n",
        "Observations:\n",
        "The calculated revenue does not depend upon a0 and it is highly affected by Di and least affected by Ti"
      ],
      "metadata": {
        "id": "ljXxUk-F2LIe"
      }
    },
    {
      "cell_type": "markdown",
      "source": [
        "**Report on Exercise 2 part 5:**"
      ],
      "metadata": {
        "id": "zB8PrnRq37q_"
      }
    },
    {
      "cell_type": "markdown",
      "source": [
        "The LP formulation when p>1, a0>=0 is as follows:\n",
        "\n",
        "$ min \\sum_{i=1}^6 |Qi|^p $\n",
        "\n",
        "s.t. $|Qi|^p>=Qi^p$ and $|Qi|^p>= -Qi^p$\n",
        "\n",
        "where $ Q_i= R_i- (a_0+a_1*T_i+a_2*D_i) $\n",
        "\n",
        "$a_0>=0$\n",
        "\n",
        "$R_i$ is the actual revenue and $Q_i$ is the difference between actual and predicted revenue\n",
        "\n",
        "$T_i$ denotes the daily average view-time per view\n",
        "\n",
        "$D_i$ denotes the daily average number of unskipped ads per view"
      ],
      "metadata": {
        "id": "UUnzTssV4ny4"
      }
    },
    {
      "cell_type": "markdown",
      "source": [
        "**Report on Exercise 2 part 7:**"
      ],
      "metadata": {
        "id": "RDR4j64Q5UKU"
      }
    },
    {
      "cell_type": "markdown",
      "source": [
        "**When p = 1.5**\n",
        "\n",
        "Solver Status: ok\n",
        "\n",
        "Solver Termination Condition: Optimal\n",
        "\n",
        "Time taken to solve: 0.018645048141479492 units\n",
        "\n",
        "**Objective** =  188066.92403421344\n",
        "\n",
        "**Decision Variables:**\n",
        "\n",
        "a0 =  503.74058049349685\n",
        "\n",
        "a1 =  2.723598706569999\n",
        "\n",
        "a2 =  4802.720279141072\n",
        "\n",
        "**When p = 2**\n",
        "\n",
        "Solver Status: ok\n",
        "\n",
        "Solver Termination Condition: Optimal\n",
        "\n",
        "Time taken to solve: 0.022211790084838867\n",
        "\n",
        "**Objective** =  8399946.934010398\n",
        "\n",
        "**Decision Variables:**\n",
        "\n",
        "a0 =  884.3228326047202\n",
        "\n",
        "a1 =  1.856236216800654\n",
        "\n",
        "a2 =  3097.070581130479\n",
        "\n",
        "Observations: The effect on calculated Ri due to a1 and a2 decreases when p=2 as compared to p = 1.5 but the effect due to a0 increases. The time taken to solve the LP when p=2 is slightly greater than time taken when p=1. Also, the objective function increased highly when p=2."
      ],
      "metadata": {
        "id": "89Juk2Yt5ZgA"
      }
    },
    {
      "cell_type": "markdown",
      "source": [
        "**Report on Exercise 2 part 8:**\n",
        "Plot is above.\n",
        "Since, we can see in all the plots of residual v/s forecasted there is a pattern in the data points, hence we can say that this model is not so good fit for the data."
      ],
      "metadata": {
        "id": "Ov17-o2iFADA"
      }
    },
    {
      "cell_type": "markdown",
      "source": [
        "**Report on Exercise 2 part 9:**\n",
        "\n",
        "Taking p=1 gives us the best fit to the model since Qi(difference between actual and forecasted value of revenue) is minimum (for all i = 1, 2, 3, 4, 5, 6) as compared to the models when p=1.5 and p=2."
      ],
      "metadata": {
        "id": "kHdFh8tAFEFt"
      }
    }
  ]
}