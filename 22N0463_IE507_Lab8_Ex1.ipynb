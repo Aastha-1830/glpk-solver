{
  "nbformat": 4,
  "nbformat_minor": 0,
  "metadata": {
    "colab": {
      "provenance": []
    },
    "kernelspec": {
      "name": "python3",
      "display_name": "Python 3"
    }
  },
  "cells": [
    {
      "cell_type": "code",
      "metadata": {
        "id": "1r_yYUofSTFB"
      },
      "source": [
        "!pip install -q pyomo"
      ],
      "execution_count": null,
      "outputs": []
    },
    {
      "cell_type": "code",
      "metadata": {
        "id": "j4opCPZrSak0"
      },
      "source": [
        "from pyomo.environ import *\n",
        "import math"
      ],
      "execution_count": null,
      "outputs": []
    },
    {
      "cell_type": "code",
      "metadata": {
        "id": "HYj3zpsvSih4"
      },
      "source": [
        "# create a model\n",
        "model = ConcreteModel()"
      ],
      "execution_count": null,
      "outputs": []
    },
    {
      "cell_type": "code",
      "metadata": {
        "id": "XvRZqCV8d_-e"
      },
      "source": [
        "# declare decision variables with initialize=2.\n",
        "model.x1 = Var(initialize=2.)\n",
        "model.x2 = Var(initialize=2.)\n",
        "model.x3 = Var(initialize=2.)\n",
        "model.x4 = Var(initialize=2.)\n",
        "model.x5 = Var(initialize=2.)\n",
        "\n",
        "model.constr1 = Constraint(expr=(model.x1)+model.x2**2+model.x3**3-2-3*math.sqrt(2)== 0)\n",
        "model.constr2 = Constraint(expr=model.x2-model.x3**2+model.x4+2-2*math.sqrt(2) == 0)\n",
        "model.constr3 = Constraint(expr=model.x1*model.x5-2 == 0)\n",
        "model.x1.setlb(-5)\n",
        "model.x1.setub(5)\n",
        "model.x3.setlb(0)\n",
        "model.x3.setub(3)"
      ],
      "execution_count": null,
      "outputs": []
    },
    {
      "cell_type": "code",
      "source": [
        "def func(model):\n",
        "  return (model.x1-1)**2 + (model.x1 - model.x2)**2 + (model.x2 - model.x3)**2 + (model.x3 - model.x4)**4 + (model.x4 - model.x5)**4"
      ],
      "metadata": {
        "id": "WX3W1J-EThso"
      },
      "execution_count": null,
      "outputs": []
    },
    {
      "cell_type": "code",
      "metadata": {
        "id": "sN7eq44-eCfY"
      },
      "source": [
        "# declare objective\n",
        "model.cost = Objective(rule = func, sense=minimize)"
      ],
      "execution_count": null,
      "outputs": []
    },
    {
      "cell_type": "code",
      "metadata": {
        "id": "hLjlmRD8eG_X",
        "colab": {
          "base_uri": "https://localhost:8080/"
        },
        "outputId": "bcf32d41-86ee-4962-ff2c-61456ee280de"
      },
      "source": [
        "model.pprint()"
      ],
      "execution_count": null,
      "outputs": [
        {
          "output_type": "stream",
          "name": "stdout",
          "text": [
            "5 Var Declarations\n",
            "    x1 : Size=1, Index=None\n",
            "        Key  : Lower : Value : Upper : Fixed : Stale : Domain\n",
            "        None :    -5 :   2.0 :     5 : False : False :  Reals\n",
            "    x2 : Size=1, Index=None\n",
            "        Key  : Lower : Value : Upper : Fixed : Stale : Domain\n",
            "        None :  None :   2.0 :  None : False : False :  Reals\n",
            "    x3 : Size=1, Index=None\n",
            "        Key  : Lower : Value : Upper : Fixed : Stale : Domain\n",
            "        None :     0 :   2.0 :     3 : False : False :  Reals\n",
            "    x4 : Size=1, Index=None\n",
            "        Key  : Lower : Value : Upper : Fixed : Stale : Domain\n",
            "        None :  None :   2.0 :  None : False : False :  Reals\n",
            "    x5 : Size=1, Index=None\n",
            "        Key  : Lower : Value : Upper : Fixed : Stale : Domain\n",
            "        None :  None :   2.0 :  None : False : False :  Reals\n",
            "\n",
            "1 Objective Declarations\n",
            "    cost : Size=1, Index=None, Active=True\n",
            "        Key  : Active : Sense    : Expression\n",
            "        None :   True : minimize : (x1 - 1)**2 + (x1 - x2)**2 + (x2 - x3)**2 + (x3 - x4)**4 + (x4 - x5)**4\n",
            "\n",
            "3 Constraint Declarations\n",
            "    constr1 : Size=1, Index=None, Active=True\n",
            "        Key  : Lower : Body                                       : Upper : Active\n",
            "        None :   0.0 : x1 + x2**2 + x3**3 - 2 - 4.242640687119286 :   0.0 :   True\n",
            "    constr2 : Size=1, Index=None, Active=True\n",
            "        Key  : Lower : Body                                     : Upper : Active\n",
            "        None :   0.0 : x2 - x3**2 + x4 + 2 - 2.8284271247461903 :   0.0 :   True\n",
            "    constr3 : Size=1, Index=None, Active=True\n",
            "        Key  : Lower : Body      : Upper : Active\n",
            "        None :   0.0 : x1*x5 - 2 :   0.0 :   True\n",
            "\n",
            "9 Declarations: x1 x2 x3 x4 x5 constr1 constr2 constr3 cost\n"
          ]
        }
      ]
    },
    {
      "cell_type": "code",
      "source": [
        "#We will use ipopt solver for solving the optimization problem\n",
        "\n",
        "!wget -N -q \"https://ampl.com/dl/open/ipopt/ipopt-linux64.zip\"\n",
        "!unzip -o -q ipopt-linux64\n",
        ""
      ],
      "metadata": {
        "id": "39LzajNuVUEh"
      },
      "execution_count": null,
      "outputs": []
    },
    {
      "cell_type": "code",
      "source": [
        "solver = SolverFactory('ipopt', executable='/content/ipopt')"
      ],
      "metadata": {
        "id": "aVuYHMW2UFP-"
      },
      "execution_count": null,
      "outputs": []
    },
    {
      "cell_type": "code",
      "source": [
        "results = solver.solve(model)"
      ],
      "metadata": {
        "id": "jA-nJRTCX78J"
      },
      "execution_count": null,
      "outputs": []
    },
    {
      "cell_type": "code",
      "source": [
        "#display the statistics\n",
        "print(results)"
      ],
      "metadata": {
        "colab": {
          "base_uri": "https://localhost:8080/"
        },
        "id": "7EsKAZXlXtpc",
        "outputId": "182ae58b-f859-40ad-8c1e-6fca061cb6f5"
      },
      "execution_count": null,
      "outputs": [
        {
          "output_type": "stream",
          "name": "stdout",
          "text": [
            "\n",
            "Problem: \n",
            "- Lower bound: -inf\n",
            "  Upper bound: inf\n",
            "  Number of objectives: 1\n",
            "  Number of constraints: 3\n",
            "  Number of variables: 5\n",
            "  Sense: unknown\n",
            "Solver: \n",
            "- Status: ok\n",
            "  Message: Ipopt 3.12.13\\x3a Optimal Solution Found\n",
            "  Termination condition: optimal\n",
            "  Id: 0\n",
            "  Error rc: 0\n",
            "  Time: 0.026993751525878906\n",
            "Solution: \n",
            "- number of solutions: 0\n",
            "  number of solutions displayed: 0\n",
            "\n"
          ]
        }
      ]
    },
    {
      "cell_type": "code",
      "metadata": {
        "id": "WQZHDR3afKj5",
        "colab": {
          "base_uri": "https://localhost:8080/"
        },
        "outputId": "cbe4ad79-8362-428d-de25-fa4c944be30e"
      },
      "source": [
        "# display solution\n",
        "print('\\nCost = ', model.cost())\n",
        "\n",
        "print('\\nOptimal solution:')\n",
        "print('x1 = ', model.x1())\n",
        "print('x2 = ', model.x2())\n",
        "print('x3 = ', model.x3())\n",
        "print('x4 = ', model.x4())\n",
        "print('x5 = ', model.x5())\n",
        "\n",
        "\n",
        "print('\\nConstraints')\n",
        "print('Constraint 1  = ', model.constr1())\n",
        "print('Constraint 2  = ', model.constr2())\n",
        "print('Constraint 3  = ', model.constr3())"
      ],
      "execution_count": null,
      "outputs": [
        {
          "output_type": "stream",
          "name": "stdout",
          "text": [
            "\n",
            "Cost =  0.07877682087105699\n",
            "\n",
            "Optimal solution:\n",
            "x1 =  1.1911274562403504\n",
            "x2 =  1.3626031649434767\n",
            "x3 =  1.4728179315306016\n",
            "x4 =  1.6350166192407931\n",
            "x5 =  1.6790814362660684\n",
            "\n",
            "Constraints\n",
            "Constraint 1  =  1.7763568394002505e-15\n",
            "Constraint 2  =  -4.440892098500626e-16\n",
            "Constraint 3  =  -3.774758283725532e-15\n"
          ]
        }
      ]
    },
    {
      "cell_type": "code",
      "source": [
        "#change the initial value\n",
        "model.x1 = Var(initialize=4.)\n",
        "model.x2 = Var(initialize=4.)\n",
        "model.x3 = Var(initialize=4.)\n",
        "model.x4 = Var(initialize=4.)\n",
        "model.x5 = Var(initialize=4.)\n",
        "\n",
        "model.constr1 = Constraint(expr=(model.x1)+model.x2**2+model.x3**3-2-3*math.sqrt(2)== 0)\n",
        "model.constr2 = Constraint(expr=model.x2-model.x3**2+model.x4+2-2*math.sqrt(2) == 0)\n",
        "model.constr3 = Constraint(expr=model.x1*model.x5-2 == 0)\n",
        "model.x1.setlb(-5)\n",
        "model.x1.setub(5)\n",
        "model.x3.setlb(0)\n",
        "model.x3.setub(3)"
      ],
      "metadata": {
        "id": "sgbuMJC6gRmz"
      },
      "execution_count": null,
      "outputs": []
    },
    {
      "cell_type": "code",
      "source": [
        "# declare objective\n",
        "model.cost = Objective(rule = func, sense=minimize)"
      ],
      "metadata": {
        "colab": {
          "base_uri": "https://localhost:8080/"
        },
        "id": "4_N6JvtRhPvo",
        "outputId": "1c43f849-2a37-41c1-cf92-c2b890c65900"
      },
      "execution_count": null,
      "outputs": [
        {
          "output_type": "stream",
          "name": "stderr",
          "text": [
            "WARNING:pyomo.core:Implicitly replacing the Component attribute cost (type=<class 'pyomo.core.base.objective.ScalarObjective'>) on block unknown with a new Component (type=<class 'pyomo.core.base.objective.ScalarObjective'>).\n",
            "This is usually indicative of a modelling error.\n",
            "To avoid this warning, use block.del_component() and block.add_component().\n"
          ]
        }
      ]
    },
    {
      "cell_type": "code",
      "source": [
        "results = solver.solve(model)\n",
        "print(results)"
      ],
      "metadata": {
        "colab": {
          "base_uri": "https://localhost:8080/"
        },
        "id": "22sd0cJUghiz",
        "outputId": "31bf9773-6310-4373-c1e3-96aa6c8060a7"
      },
      "execution_count": null,
      "outputs": [
        {
          "output_type": "stream",
          "name": "stdout",
          "text": [
            "\n",
            "Problem: \n",
            "- Lower bound: -inf\n",
            "  Upper bound: inf\n",
            "  Number of objectives: 1\n",
            "  Number of constraints: 3\n",
            "  Number of variables: 5\n",
            "  Sense: unknown\n",
            "Solver: \n",
            "- Status: ok\n",
            "  Message: Ipopt 3.12.13\\x3a Optimal Solution Found\n",
            "  Termination condition: optimal\n",
            "  Id: 0\n",
            "  Error rc: 0\n",
            "  Time: 0.025893211364746094\n",
            "Solution: \n",
            "- number of solutions: 0\n",
            "  number of solutions displayed: 0\n",
            "\n"
          ]
        }
      ]
    },
    {
      "cell_type": "code",
      "source": [
        "#display solution\n",
        "print('\\nCost = ', model.cost())\n",
        "\n",
        "print('\\nOptimal solution:')\n",
        "print('x1 = ', model.x1())\n",
        "print('x2 = ', model.x2())\n",
        "print('x3 = ', model.x3())\n",
        "print('x4 = ', model.x4())\n",
        "print('x5 = ', model.x5())\n",
        "\n",
        "\n",
        "print('\\nConstraints')\n",
        "print('Constraint 1  = ', model.constr1())\n",
        "print('Constraint 2  = ', model.constr2())\n",
        "print('Constraint 3  = ', model.constr3())"
      ],
      "metadata": {
        "colab": {
          "base_uri": "https://localhost:8080/"
        },
        "id": "9fIc7-hcgyOa",
        "outputId": "8dc0343a-b1dd-477d-89e3-39ba6dd30487"
      },
      "execution_count": null,
      "outputs": [
        {
          "output_type": "stream",
          "name": "stdout",
          "text": [
            "\n",
            "Cost =  0.07877682087105696\n",
            "\n",
            "Optimal solution:\n",
            "x1 =  1.1911274562403502\n",
            "x2 =  1.3626031649434764\n",
            "x3 =  1.4728179315306016\n",
            "x4 =  1.6350166192407936\n",
            "x5 =  1.6790814362660686\n",
            "\n",
            "Constraints\n",
            "Constraint 1  =  8.881784197001252e-16\n",
            "Constraint 2  =  -4.440892098500626e-16\n",
            "Constraint 3  =  -3.9968028886505635e-15\n"
          ]
        }
      ]
    },
    {
      "cell_type": "code",
      "source": [
        "#change the initial value\n",
        "model.x1 = Var(initialize=2**4.)\n",
        "model.x2 = Var(initialize=2**4.)\n",
        "model.x3 = Var(initialize=2**4.)\n",
        "model.x4 = Var(initialize=2**4.)\n",
        "model.x5 = Var(initialize=2**4.)\n",
        "\n",
        "model.constr1 = Constraint(expr=(model.x1)+model.x2**2+model.x3**3-2-3*math.sqrt(2)== 0)\n",
        "model.constr2 = Constraint(expr=model.x2-model.x3**2+model.x4+2-2*math.sqrt(2) == 0)\n",
        "model.constr3 = Constraint(expr=model.x1*model.x5-2 == 0)\n",
        "model.x1.setlb(-5)\n",
        "model.x1.setub(5)\n",
        "model.x3.setlb(0)\n",
        "model.x3.setub(3)"
      ],
      "metadata": {
        "id": "FmAX37TGhg-k"
      },
      "execution_count": null,
      "outputs": []
    },
    {
      "cell_type": "code",
      "source": [
        "# declare objective\n",
        "model.cost = Objective(rule = func, sense=minimize)"
      ],
      "metadata": {
        "colab": {
          "base_uri": "https://localhost:8080/"
        },
        "id": "uXa2uj5ShslL",
        "outputId": "5c44f7a8-19ff-4c79-a5e3-4ece81d490ee"
      },
      "execution_count": null,
      "outputs": [
        {
          "output_type": "stream",
          "name": "stderr",
          "text": [
            "WARNING:pyomo.core:Implicitly replacing the Component attribute cost (type=<class 'pyomo.core.base.objective.ScalarObjective'>) on block unknown with a new Component (type=<class 'pyomo.core.base.objective.ScalarObjective'>).\n",
            "This is usually indicative of a modelling error.\n",
            "To avoid this warning, use block.del_component() and block.add_component().\n"
          ]
        }
      ]
    },
    {
      "cell_type": "code",
      "source": [
        "results = solver.solve(model)\n",
        "print(results)"
      ],
      "metadata": {
        "colab": {
          "base_uri": "https://localhost:8080/"
        },
        "id": "eIo9MMQGhtwZ",
        "outputId": "fcea4c17-8de1-49c7-abaa-49b3e1c4259d"
      },
      "execution_count": null,
      "outputs": [
        {
          "output_type": "stream",
          "name": "stdout",
          "text": [
            "\n",
            "Problem: \n",
            "- Lower bound: -inf\n",
            "  Upper bound: inf\n",
            "  Number of objectives: 1\n",
            "  Number of constraints: 3\n",
            "  Number of variables: 5\n",
            "  Sense: unknown\n",
            "Solver: \n",
            "- Status: ok\n",
            "  Message: Ipopt 3.12.13\\x3a Optimal Solution Found\n",
            "  Termination condition: optimal\n",
            "  Id: 0\n",
            "  Error rc: 0\n",
            "  Time: 0.03658628463745117\n",
            "Solution: \n",
            "- number of solutions: 0\n",
            "  number of solutions displayed: 0\n",
            "\n"
          ]
        }
      ]
    },
    {
      "cell_type": "code",
      "source": [
        "#display solution\n",
        "print('\\nCost = ', model.cost())\n",
        "\n",
        "print('\\nOptimal solution:')\n",
        "print('x1 = ', model.x1())\n",
        "print('x2 = ', model.x2())\n",
        "print('x3 = ', model.x3())\n",
        "print('x4 = ', model.x4())\n",
        "print('x5 = ', model.x5())\n",
        "\n",
        "\n",
        "print('\\nConstraints')\n",
        "print('Constraint 1  = ', model.constr1())\n",
        "print('Constraint 2  = ', model.constr2())\n",
        "print('Constraint 3  = ', model.constr3())"
      ],
      "metadata": {
        "colab": {
          "base_uri": "https://localhost:8080/"
        },
        "id": "mswHP9nohuDs",
        "outputId": "23308afd-7c43-4100-9bdf-07f76d4706b2"
      },
      "execution_count": null,
      "outputs": [
        {
          "output_type": "stream",
          "name": "stdout",
          "text": [
            "\n",
            "Cost =  0.07877682087105699\n",
            "\n",
            "Optimal solution:\n",
            "x1 =  1.1911274562403504\n",
            "x2 =  1.3626031649434767\n",
            "x3 =  1.4728179315306016\n",
            "x4 =  1.6350166192407931\n",
            "x5 =  1.6790814362660684\n",
            "\n",
            "Constraints\n",
            "Constraint 1  =  1.7763568394002505e-15\n",
            "Constraint 2  =  -4.440892098500626e-16\n",
            "Constraint 3  =  -3.774758283725532e-15\n"
          ]
        }
      ]
    },
    {
      "cell_type": "code",
      "source": [
        "#change the initial value\n",
        "model.x1 = Var(initialize=2**8.)\n",
        "model.x2 = Var(initialize=2**8.)\n",
        "model.x3 = Var(initialize=2**8.)\n",
        "model.x4 = Var(initialize=2**8.)\n",
        "model.x5 = Var(initialize=2**8.)\n",
        "\n",
        "model.constr1 = Constraint(expr=(model.x1)+model.x2**2+model.x3**3-2-3*math.sqrt(2)== 0)\n",
        "model.constr2 = Constraint(expr=model.x2-model.x3**2+model.x4+2-2*math.sqrt(2) == 0)\n",
        "model.constr3 = Constraint(expr=model.x1*model.x5-2 == 0)\n",
        "model.x1.setlb(-5)\n",
        "model.x1.setub(5)\n",
        "model.x3.setlb(0)\n",
        "model.x3.setub(3)"
      ],
      "metadata": {
        "id": "jmzQhbs_huJj"
      },
      "execution_count": null,
      "outputs": []
    },
    {
      "cell_type": "code",
      "source": [
        "# declare objective\n",
        "model.cost = Objective(rule = func, sense=minimize)"
      ],
      "metadata": {
        "colab": {
          "base_uri": "https://localhost:8080/"
        },
        "id": "bcwYRrXYiKg_",
        "outputId": "07b97f41-e4f6-4dab-9a41-9cbffa088dd2"
      },
      "execution_count": null,
      "outputs": [
        {
          "output_type": "stream",
          "name": "stderr",
          "text": [
            "WARNING:pyomo.core:Implicitly replacing the Component attribute cost (type=<class 'pyomo.core.base.objective.ScalarObjective'>) on block unknown with a new Component (type=<class 'pyomo.core.base.objective.ScalarObjective'>).\n",
            "This is usually indicative of a modelling error.\n",
            "To avoid this warning, use block.del_component() and block.add_component().\n"
          ]
        }
      ]
    },
    {
      "cell_type": "code",
      "source": [
        "results = solver.solve(model)\n",
        "print(results)"
      ],
      "metadata": {
        "colab": {
          "base_uri": "https://localhost:8080/"
        },
        "id": "QoczKBloiKuA",
        "outputId": "5b2aa7bd-650b-45e6-8e7a-a2108808ef36"
      },
      "execution_count": null,
      "outputs": [
        {
          "output_type": "stream",
          "name": "stdout",
          "text": [
            "\n",
            "Problem: \n",
            "- Lower bound: -inf\n",
            "  Upper bound: inf\n",
            "  Number of objectives: 1\n",
            "  Number of constraints: 3\n",
            "  Number of variables: 5\n",
            "  Sense: unknown\n",
            "Solver: \n",
            "- Status: ok\n",
            "  Message: Ipopt 3.12.13\\x3a Optimal Solution Found\n",
            "  Termination condition: optimal\n",
            "  Id: 0\n",
            "  Error rc: 0\n",
            "  Time: 0.06071352958679199\n",
            "Solution: \n",
            "- number of solutions: 0\n",
            "  number of solutions displayed: 0\n",
            "\n"
          ]
        }
      ]
    },
    {
      "cell_type": "code",
      "source": [
        "#display solution\n",
        "print('\\nCost = ', model.cost())\n",
        "\n",
        "print('\\nOptimal solution:')\n",
        "print('x1 = ', model.x1())\n",
        "print('x2 = ', model.x2())\n",
        "print('x3 = ', model.x3())\n",
        "print('x4 = ', model.x4())\n",
        "print('x5 = ', model.x5())\n",
        "\n",
        "\n",
        "print('\\nConstraints')\n",
        "print('Constraint 1  = ', model.constr1())\n",
        "print('Constraint 2  = ', model.constr2())\n",
        "print('Constraint 3  = ', model.constr3())"
      ],
      "metadata": {
        "colab": {
          "base_uri": "https://localhost:8080/"
        },
        "id": "ZDDFZyydiK1h",
        "outputId": "6938efb9-3400-4e75-8260-3086201a4380"
      },
      "execution_count": null,
      "outputs": [
        {
          "output_type": "stream",
          "name": "stdout",
          "text": [
            "\n",
            "Cost =  0.07877682087142031\n",
            "\n",
            "Optimal solution:\n",
            "x1 =  1.1911274559458875\n",
            "x2 =  1.3626031648627808\n",
            "x3 =  1.4728179316111962\n",
            "x4 =  1.635016619557219\n",
            "x5 =  1.6790814366787805\n",
            "\n",
            "Constraints\n",
            "Constraint 1  =  1.0102141345669224e-11\n",
            "Constraint 2  =  -1.6728840535051859e-12\n",
            "Constraint 3  =  -2.8383961847566752e-12\n"
          ]
        }
      ]
    },
    {
      "cell_type": "code",
      "source": [
        "#change the initial value\n",
        "model.x1 = Var(initialize=2**10.)\n",
        "model.x2 = Var(initialize=2**10.)\n",
        "model.x3 = Var(initialize=2**10.)\n",
        "model.x4 = Var(initialize=2**10.)\n",
        "model.x5 = Var(initialize=2**10.)\n",
        "\n",
        "model.constr1 = Constraint(expr=(model.x1)+model.x2**2+model.x3**3-2-3*math.sqrt(2)== 0)\n",
        "model.constr2 = Constraint(expr=model.x2-model.x3**2+model.x4+2-2*math.sqrt(2) == 0)\n",
        "model.constr3 = Constraint(expr=model.x1*model.x5-2 == 0)\n",
        "model.x1.setlb(-5)\n",
        "model.x1.setub(5)\n",
        "model.x3.setlb(0)\n",
        "model.x3.setub(3)"
      ],
      "metadata": {
        "id": "wZprvpxrirdu"
      },
      "execution_count": null,
      "outputs": []
    },
    {
      "cell_type": "code",
      "source": [
        "# declare objective\n",
        "model.cost = Objective(rule = func, sense=minimize)"
      ],
      "metadata": {
        "colab": {
          "base_uri": "https://localhost:8080/"
        },
        "id": "AXljcqeiirj-",
        "outputId": "d2062926-5480-46f5-fab2-ea36e2cc3989"
      },
      "execution_count": null,
      "outputs": [
        {
          "output_type": "stream",
          "name": "stderr",
          "text": [
            "WARNING:pyomo.core:Implicitly replacing the Component attribute cost (type=<class 'pyomo.core.base.objective.ScalarObjective'>) on block unknown with a new Component (type=<class 'pyomo.core.base.objective.ScalarObjective'>).\n",
            "This is usually indicative of a modelling error.\n",
            "To avoid this warning, use block.del_component() and block.add_component().\n"
          ]
        }
      ]
    },
    {
      "cell_type": "code",
      "source": [
        "results = solver.solve(model)\n",
        "print(results)"
      ],
      "metadata": {
        "colab": {
          "base_uri": "https://localhost:8080/"
        },
        "id": "ZJ1WtZx3irpE",
        "outputId": "4b9cca92-7654-401c-ad87-aaa8ecf756f6"
      },
      "execution_count": null,
      "outputs": [
        {
          "output_type": "stream",
          "name": "stdout",
          "text": [
            "\n",
            "Problem: \n",
            "- Lower bound: -inf\n",
            "  Upper bound: inf\n",
            "  Number of objectives: 1\n",
            "  Number of constraints: 3\n",
            "  Number of variables: 5\n",
            "  Sense: unknown\n",
            "Solver: \n",
            "- Status: ok\n",
            "  Message: Ipopt 3.12.13\\x3a Optimal Solution Found\n",
            "  Termination condition: optimal\n",
            "  Id: 0\n",
            "  Error rc: 0\n",
            "  Time: 0.0800323486328125\n",
            "Solution: \n",
            "- number of solutions: 0\n",
            "  number of solutions displayed: 0\n",
            "\n"
          ]
        }
      ]
    },
    {
      "cell_type": "code",
      "source": [
        "#display solution\n",
        "print('\\nCost = ', model.cost())\n",
        "\n",
        "print('\\nOptimal solution:')\n",
        "print('x1 = ', model.x1())\n",
        "print('x2 = ', model.x2())\n",
        "print('x3 = ', model.x3())\n",
        "print('x4 = ', model.x4())\n",
        "print('x5 = ', model.x5())\n",
        "\n",
        "\n",
        "print('\\nConstraints')\n",
        "print('Constraint 1  = ', model.constr1())\n",
        "print('Constraint 2  = ', model.constr2())\n",
        "print('Constraint 3  = ', model.constr3())"
      ],
      "metadata": {
        "colab": {
          "base_uri": "https://localhost:8080/"
        },
        "id": "LFPCR5nYi6DV",
        "outputId": "dde669d1-1d6a-46c6-8c03-87afc2eb3a5e"
      },
      "execution_count": null,
      "outputs": [
        {
          "output_type": "stream",
          "name": "stdout",
          "text": [
            "\n",
            "Cost =  0.0787768208710788\n",
            "\n",
            "Optimal solution:\n",
            "x1 =  1.1911274548626596\n",
            "x2 =  1.3626031645866354\n",
            "x3 =  1.4728179318918395\n",
            "x4 =  1.6350166206615917\n",
            "x5 =  1.6790814382064987\n",
            "\n",
            "Constraints\n",
            "Constraint 1  =  6.288303211476887e-13\n",
            "Constraint 2  =  -1.1857181902996672e-13\n",
            "Constraint 3  =  -1.9590995492535512e-12\n"
          ]
        }
      ]
    },
    {
      "cell_type": "code",
      "source": [
        "#change the initial value\n",
        "model.x1 = Var(initialize=2**12.)\n",
        "model.x2 = Var(initialize=2**12.)\n",
        "model.x3 = Var(initialize=2**12.)\n",
        "model.x4 = Var(initialize=2**12.)\n",
        "model.x5 = Var(initialize=2**12.)\n",
        "\n",
        "model.constr1 = Constraint(expr=(model.x1)+model.x2**2+model.x3**3-2-3*math.sqrt(2)== 0)\n",
        "model.constr2 = Constraint(expr=model.x2-model.x3**2+model.x4+2-2*math.sqrt(2) == 0)\n",
        "model.constr3 = Constraint(expr=model.x1*model.x5-2 == 0)\n",
        "model.x1.setlb(-5)\n",
        "model.x1.setub(5)\n",
        "model.x3.setlb(0)\n",
        "model.x3.setub(3)"
      ],
      "metadata": {
        "id": "oM59WsMXi6NC"
      },
      "execution_count": null,
      "outputs": []
    },
    {
      "cell_type": "code",
      "source": [
        "# declare objective\n",
        "model.cost = Objective(rule = func, sense=minimize)"
      ],
      "metadata": {
        "colab": {
          "base_uri": "https://localhost:8080/"
        },
        "id": "nCTj-K-xi6PY",
        "outputId": "4baf460b-6e9d-414b-a6be-2b764c71be8e"
      },
      "execution_count": null,
      "outputs": [
        {
          "output_type": "stream",
          "name": "stderr",
          "text": [
            "WARNING:pyomo.core:Implicitly replacing the Component attribute cost (type=<class 'pyomo.core.base.objective.ScalarObjective'>) on block unknown with a new Component (type=<class 'pyomo.core.base.objective.ScalarObjective'>).\n",
            "This is usually indicative of a modelling error.\n",
            "To avoid this warning, use block.del_component() and block.add_component().\n"
          ]
        }
      ]
    },
    {
      "cell_type": "code",
      "source": [
        "results = solver.solve(model)\n",
        "print(results)"
      ],
      "metadata": {
        "colab": {
          "base_uri": "https://localhost:8080/"
        },
        "id": "y7vtecW1i6SB",
        "outputId": "69826ebc-c3df-487d-fa5b-cab422ee8273"
      },
      "execution_count": null,
      "outputs": [
        {
          "output_type": "stream",
          "name": "stdout",
          "text": [
            "\n",
            "Problem: \n",
            "- Lower bound: -inf\n",
            "  Upper bound: inf\n",
            "  Number of objectives: 1\n",
            "  Number of constraints: 3\n",
            "  Number of variables: 5\n",
            "  Sense: unknown\n",
            "Solver: \n",
            "- Status: ok\n",
            "  Message: Ipopt 3.12.13\\x3a Optimal Solution Found\n",
            "  Termination condition: optimal\n",
            "  Id: 0\n",
            "  Error rc: 0\n",
            "  Time: 0.0418093204498291\n",
            "Solution: \n",
            "- number of solutions: 0\n",
            "  number of solutions displayed: 0\n",
            "\n"
          ]
        }
      ]
    },
    {
      "cell_type": "code",
      "source": [
        "#display solution\n",
        "print('\\nCost = ', model.cost())\n",
        "\n",
        "print('\\nOptimal solution:')\n",
        "print('x1 = ', model.x1())\n",
        "print('x2 = ', model.x2())\n",
        "print('x3 = ', model.x3())\n",
        "print('x4 = ', model.x4())\n",
        "print('x5 = ', model.x5())\n",
        "\n",
        "\n",
        "print('\\nConstraints')\n",
        "print('Constraint 1  = ', model.constr1())\n",
        "print('Constraint 2  = ', model.constr2())\n",
        "print('Constraint 3  = ', model.constr3())"
      ],
      "metadata": {
        "colab": {
          "base_uri": "https://localhost:8080/"
        },
        "id": "LGwRaLZSi6US",
        "outputId": "1d224e5d-8ea0-409d-ea0a-fada92f5bcdb"
      },
      "execution_count": null,
      "outputs": [
        {
          "output_type": "stream",
          "name": "stdout",
          "text": [
            "\n",
            "Cost =  0.07877682153434043\n",
            "\n",
            "Optimal solution:\n",
            "x1 =  1.1911274444329922\n",
            "x2 =  1.362603152254644\n",
            "x3 =  1.4728179414916138\n",
            "x4 =  1.635016658269562\n",
            "x5 =  1.6790814465461419\n",
            "\n",
            "Constraints\n",
            "Constraint 1  =  1.8435020621154763e-08\n",
            "Constraint 2  =  -3.00157898536213e-09\n",
            "Constraint 3  =  -7.58064211403564e-09\n"
          ]
        }
      ]
    },
    {
      "cell_type": "markdown",
      "source": [
        "**Report on Exercise 1 part 3:**"
      ],
      "metadata": {
        "id": "Edum25U9kC1V"
      }
    },
    {
      "cell_type": "markdown",
      "source": [
        "Solver status: ok\n",
        "\n",
        "Time taken to solve: 0.026993751525878906\n",
        "  \n",
        "Solver termination condition: Optimal"
      ],
      "metadata": {
        "id": "P70hMUhBkJIE"
      }
    },
    {
      "cell_type": "markdown",
      "source": [
        "**Report on Exercise 1 part 4:**"
      ],
      "metadata": {
        "id": "RIIZy8hulB6S"
      }
    },
    {
      "cell_type": "markdown",
      "source": [
        "Cost =  0.07877682087105699\n",
        "\n",
        "Optimal solution:\n",
        "\n",
        "x1 =  1.1911274562403504\n",
        "\n",
        "x2 =  1.3626031649434767\n",
        "\n",
        "x3 =  1.4728179315306016\n",
        "\n",
        "x4 =  1.6350166192407931\n",
        "\n",
        "x5 =  1.6790814362660684"
      ],
      "metadata": {
        "id": "T5apn_QXlGS5"
      }
    },
    {
      "cell_type": "markdown",
      "source": [
        "**Report on Exercise 1 part 5:**"
      ],
      "metadata": {
        "id": "9zYM-QNqlsMn"
      }
    },
    {
      "cell_type": "markdown",
      "source": [
        "Constraint 1, $x_1 + x_2^2 + x_3^3 - 2 - 4.242640687119286$ evaluates to\n",
        "1.7763568394002505e-15 which is almost equal to zero = rhs, hence active.\n",
        "\n",
        "Constraint 2, $x_2 - x_3^2 + x_4 + 2 - 2.8284271247461903 $ evaluates to\n",
        "-4.440892098500626e-16 which is almost equal to zero = rhs, hence active.\n",
        "\n",
        "Constraint 3, $x_1*x_5 - 2 $ evaluates to -3.774758283725532e-15 which is almost equal to zero = rhs, hence active.\n",
        "\n",
        "I have taken the bound constraints as bound not as the constraints."
      ],
      "metadata": {
        "id": "l4m3sxlFlwvp"
      }
    },
    {
      "cell_type": "markdown",
      "source": [
        "**Report on Exercise 1 part 6:**"
      ],
      "metadata": {
        "id": "4R9gyPJJoZoY"
      }
    },
    {
      "cell_type": "markdown",
      "source": [
        "**When i = 2**,\n",
        "\n",
        "**Cost** =  0.07877682087105696\n",
        "\n",
        "**Optimal solution:**\n",
        "\n",
        "x1 =  1.1911274562403502\n",
        "\n",
        "x2 =  1.3626031649434764\n",
        "\n",
        "x3 =  1.4728179315306016\n",
        "\n",
        "x4 =  1.6350166192407936\n",
        "\n",
        "x5 =  1.6790814362660686\n",
        "\n",
        "**Time taken to solve:** 0.025893211364746094"
      ],
      "metadata": {
        "id": "9f2n2M4CpEe7"
      }
    },
    {
      "cell_type": "markdown",
      "source": [
        "**When i = 4**,\n",
        "\n",
        "**Cost** =  0.07877682087105699\n",
        "\n",
        "**Optimal solution:**\n",
        "\n",
        "x1 =  1.1911274562403504\n",
        "\n",
        "x2 =  1.3626031649434767\n",
        "\n",
        "x3 =  1.4728179315306016\n",
        "\n",
        "x4 =  1.6350166192407931\n",
        "\n",
        "x5 =  1.6790814362660684\n",
        "\n",
        "**Time taken to solve:** 0.03658628463745117"
      ],
      "metadata": {
        "id": "B0NX5O97plpj"
      }
    },
    {
      "cell_type": "markdown",
      "source": [
        "**When i = 8**,\n",
        "\n",
        "**Cost** =  0.07877682087142031\n",
        "\n",
        "**Optimal solution:**\n",
        "\n",
        "x1 =  1.1911274559458875\n",
        "\n",
        "x2 =  1.3626031648627808\n",
        "\n",
        "x3 =  1.4728179316111962\n",
        "\n",
        "x4 =  1.635016619557219\n",
        "\n",
        "x5 =  1.6790814366787805\n",
        "\n",
        "**Time taken to solve:** 0.06071352958679199"
      ],
      "metadata": {
        "id": "JXOVrjlZqAZ-"
      }
    },
    {
      "cell_type": "markdown",
      "source": [
        "**When i = 10**,\n",
        "\n",
        "**Cost** =  0.0787768208710788\n",
        "\n",
        "**Optimal solution:**\n",
        "\n",
        "x1 =  1.1911274548626596\n",
        "\n",
        "x2 =  1.3626031645866354\n",
        "\n",
        "x3 =  1.4728179318918395\n",
        "\n",
        "x4 =  1.6350166206615917\n",
        "\n",
        "x5 =  1.6790814382064987\n",
        "\n",
        "**Time taken to solve:** 0.0800323486328125"
      ],
      "metadata": {
        "id": "cH3WitcBqftV"
      }
    },
    {
      "cell_type": "markdown",
      "source": [
        "**When i = 12**,\n",
        "\n",
        "**Cost** =  0.07877682153434043\n",
        "\n",
        "**Optimal solution:**\n",
        "\n",
        "x1 =  1.1911274444329922\n",
        "\n",
        "x2 =  1.362603152254644\n",
        "\n",
        "x3 =  1.4728179414916138\n",
        "\n",
        "x4 =  1.635016658269562\n",
        "\n",
        "x5 =  1.6790814465461419\n",
        "\n",
        "**Time taken to solve:** 0.0418093204498291"
      ],
      "metadata": {
        "id": "cTWuYYIaqxOi"
      }
    },
    {
      "cell_type": "markdown",
      "source": [
        "**Observations:**\n",
        "\n",
        "1. The objective function value in all the cases is almost the same (only last few digits changed)\n",
        "\n",
        "2. The value of all the constraints in all the cases is also the same (only last few digits changed)\n",
        "\n",
        "3. For i = 2 to i = 10, the time taken by the solver to solve the problem increased gradually but for i = 12, it increased but time taken was greater than time taken in case of i = 2 and i = 4"
      ],
      "metadata": {
        "id": "11-JZL74rB3v"
      }
    }
  ]
}