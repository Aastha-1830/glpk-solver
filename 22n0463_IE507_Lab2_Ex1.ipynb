{
  "cells": [
    {
      "cell_type": "code",
      "execution_count": null,
      "metadata": {
        "id": "8wgunj937u_o"
      },
      "outputs": [],
      "source": [
        "!pip install -q pyomo\n",
        "from pyomo.environ import *"
      ]
    },
    {
      "cell_type": "code",
      "execution_count": null,
      "metadata": {
        "id": "0MciZXKJ_LbO"
      },
      "outputs": [],
      "source": [
        "import numpy as np"
      ]
    },
    {
      "cell_type": "code",
      "execution_count": null,
      "metadata": {
        "colab": {
          "base_uri": "https://localhost:8080/"
        },
        "id": "Fx_m2dXQ_X-s",
        "outputId": "104aaba0-92b4-4c9f-e34a-09fc436a6b30"
      },
      "outputs": [
        {
          "output_type": "stream",
          "name": "stdout",
          "text": [
            "[ 0  1  2  3  4  5  6  7  8  9 10 11 12 13]\n",
            "13\n"
          ]
        }
      ],
      "source": [
        "#Creating a model\n",
        "model = ConcreteModel()\n",
        "\n",
        "#No. of decision variables\n",
        "N = 14\n",
        "\n",
        "#Objective function coefficient using numpy array\n",
        "obj_coef_c = np.array([-4.2, 37.75, 3.5, 10.05, -8.25, 40.85, 0.05, -11.12, 0.65, 20.725, -102.65, 0.6, -9.45, -25.625])\n",
        "\n",
        "#Constraints coeffiecient using numpy array\n",
        "constr1_coef_p = np.array([1, 1, 1, 1, 1, 1, 1, 1, 1, 1, 1, 1, 1, 1])\n",
        "constr2_coef_p = np.array([2.8, -0.6725, 3.6, 0, -2.02, 1.01, -4.305, 0, 1, -2.09, 0, -2.124, -3.402, 0])\n",
        "\n",
        "#Declaring RHS of the constraints as variables\n",
        "constr1_rhs_b1 = 343.48\n",
        "constr2_rhs_b2 = 66.2\n",
        "\n",
        "#Declaring lower and upper bounds of the constraints\n",
        "lower_bound = np.array([2, -3, -np.inf, 1, 7, 3, -9, 0, 1, -25.245, -np.inf, -6, -30.5, -10.8])\n",
        "upper_bound = np.array([+np.inf, 6, 2.5, 3.4, +np.inf, 6, 4.1, +np.inf, 30, 11, 0, 0, 95, 13.4])\n",
        "\n",
        "#Set of column indices\n",
        "col_indices = np.arange(N)\n",
        "print(col_indices)\n",
        "print(col_indices[13])"
      ]
    },
    {
      "cell_type": "code",
      "source": [
        "#Declaring the decision variables in model\n",
        "model.x = Var(col_indices)"
      ],
      "metadata": {
        "id": "8XYraxc4EcLw"
      },
      "execution_count": null,
      "outputs": []
    },
    {
      "cell_type": "code",
      "source": [
        "#Creating a constraint list to hold multiple constraints\n",
        "model.constraints = ConstraintList()\n",
        "\n",
        "#Adding model constraints one by one to the list\n",
        "#first add the constraint p1x1 + p2x2 +.......+ pNxN == b1\n",
        "model.constraints.add(sum(constr1_coef_p[j]*model.x[j] for j in col_indices) <= constr1_rhs_b1)\n",
        "\n",
        "#second add the constraints q1x1 + qzx2 +......+ qNxN == b2\n",
        "model.constraints.add(sum(constr2_coef_p[j]*model.x[j] for j in col_indices) == constr2_rhs_b2)"
      ],
      "metadata": {
        "colab": {
          "base_uri": "https://localhost:8080/"
        },
        "id": "5sMsxDQ-EfQw",
        "outputId": "b6caa4d0-c6c6-4f3a-c899-bc6fc8b934bb"
      },
      "execution_count": null,
      "outputs": [
        {
          "output_type": "execute_result",
          "data": {
            "text/plain": [
              "<pyomo.core.base.constraint._GeneralConstraintData at 0x7f132f4598a0>"
            ]
          },
          "metadata": {},
          "execution_count": 5
        }
      ]
    },
    {
      "cell_type": "code",
      "source": [
        "#add the upper and lower bounds for the variables\n",
        "for j in col_indices:\n",
        "  model.x[j].setlb(lower_bound[j])\n",
        "  model.x[j].setub(upper_bound[j])"
      ],
      "metadata": {
        "id": "LBIwBrRzFDGE"
      },
      "execution_count": null,
      "outputs": []
    },
    {
      "cell_type": "code",
      "source": [
        "#add the model objective\n",
        "model.objective = Objective(expr = sum(obj_coef_c[j]*model.x[j] for j in col_indices), sense = minimize)"
      ],
      "metadata": {
        "id": "BjDpE0TsFZU6"
      },
      "execution_count": null,
      "outputs": []
    },
    {
      "cell_type": "code",
      "source": [
        "#print the whole model\n",
        "model.pprint()"
      ],
      "metadata": {
        "colab": {
          "base_uri": "https://localhost:8080/"
        },
        "id": "qiYrj1KrFnzK",
        "outputId": "7cbd9d5a-e14e-4b07-eaca-3fbfbb1e7228"
      },
      "execution_count": null,
      "outputs": [
        {
          "output_type": "stream",
          "name": "stdout",
          "text": [
            "2 Set Declarations\n",
            "    constraints_index : Size=1, Index=None, Ordered=Insertion\n",
            "        Key  : Dimen : Domain : Size : Members\n",
            "        None :     1 :    Any :    2 : {1, 2}\n",
            "    x_index : Size=1, Index=None, Ordered=False\n",
            "        Key  : Dimen : Domain : Size : Members\n",
            "        None :     1 :    Any :   14 : {0, 1, 2, 3, 4, 5, 6, 7, 8, 9, 10, 11, 12, 13}\n",
            "\n",
            "1 Var Declarations\n",
            "    x : Size=14, Index=x_index\n",
            "        Key : Lower   : Value : Upper : Fixed : Stale : Domain\n",
            "          0 :     2.0 :  None :  None : False :  True :  Reals\n",
            "          1 :    -3.0 :  None :   6.0 : False :  True :  Reals\n",
            "          2 :    None :  None :   2.5 : False :  True :  Reals\n",
            "          3 :     1.0 :  None :   3.4 : False :  True :  Reals\n",
            "          4 :     7.0 :  None :  None : False :  True :  Reals\n",
            "          5 :     3.0 :  None :   6.0 : False :  True :  Reals\n",
            "          6 :    -9.0 :  None :   4.1 : False :  True :  Reals\n",
            "          7 :     0.0 :  None :  None : False :  True :  Reals\n",
            "          8 :     1.0 :  None :  30.0 : False :  True :  Reals\n",
            "          9 : -25.245 :  None :  11.0 : False :  True :  Reals\n",
            "         10 :    None :  None :   0.0 : False :  True :  Reals\n",
            "         11 :    -6.0 :  None :   0.0 : False :  True :  Reals\n",
            "         12 :   -30.5 :  None :  95.0 : False :  True :  Reals\n",
            "         13 :   -10.8 :  None :  13.4 : False :  True :  Reals\n",
            "\n",
            "1 Objective Declarations\n",
            "    objective : Size=1, Index=None, Active=True\n",
            "        Key  : Active : Sense    : Expression\n",
            "        None :   True : minimize : -4.2*x[0] + 37.75*x[1] + 3.5*x[2] + 10.05*x[3] - 8.25*x[4] + 40.85*x[5] + 0.05*x[6] - 11.12*x[7] + 0.65*x[8] + 20.725*x[9] - 102.65*x[10] + 0.6*x[11] - 9.45*x[12] - 25.625*x[13]\n",
            "\n",
            "1 Constraint Declarations\n",
            "    constraints : Size=2, Index=constraints_index, Active=True\n",
            "        Key : Lower : Body                                                                                                                  : Upper  : Active\n",
            "          1 :  -Inf :                   x[0] + x[1] + x[2] + x[3] + x[4] + x[5] + x[6] + x[7] + x[8] + x[9] + x[10] + x[11] + x[12] + x[13] : 343.48 :   True\n",
            "          2 :  66.2 : 2.8*x[0] - 0.6725*x[1] + 3.6*x[2] - 2.02*x[4] + 1.01*x[5] - 4.305*x[6] + x[8] - 2.09*x[9] - 2.124*x[11] - 3.402*x[12] :   66.2 :   True\n",
            "\n",
            "5 Declarations: x_index x constraints_index constraints objective\n"
          ]
        }
      ]
    },
    {
      "cell_type": "code",
      "source": [
        "!apt-get install -y -qq glpk-utils"
      ],
      "metadata": {
        "id": "h_JYvRs9F4sC"
      },
      "execution_count": null,
      "outputs": []
    },
    {
      "cell_type": "code",
      "source": [
        "SolverFactory('glpk', executable='/usr/bin/glpsol').solve(model).write()"
      ],
      "metadata": {
        "colab": {
          "base_uri": "https://localhost:8080/"
        },
        "id": "kxdsiuDUF95z",
        "outputId": "af34a4df-5d4a-45c0-901b-2ac16721dca1"
      },
      "execution_count": null,
      "outputs": [
        {
          "output_type": "stream",
          "name": "stdout",
          "text": [
            "# ==========================================================\n",
            "# = Solver Results                                         =\n",
            "# ==========================================================\n",
            "# ----------------------------------------------------------\n",
            "#   Problem Information\n",
            "# ----------------------------------------------------------\n",
            "Problem: \n",
            "- Name: unknown\n",
            "  Lower bound: -14246.25704375\n",
            "  Upper bound: -14246.25704375\n",
            "  Number of objectives: 1\n",
            "  Number of constraints: 3\n",
            "  Number of variables: 15\n",
            "  Number of nonzeros: 25\n",
            "  Sense: minimize\n",
            "# ----------------------------------------------------------\n",
            "#   Solver Information\n",
            "# ----------------------------------------------------------\n",
            "Solver: \n",
            "- Status: ok\n",
            "  Termination condition: optimal\n",
            "  Statistics: \n",
            "    Branch and bound: \n",
            "      Number of bounded subproblems: 0\n",
            "      Number of created subproblems: 0\n",
            "  Error rc: 0\n",
            "  Time: 0.04184460639953613\n",
            "# ----------------------------------------------------------\n",
            "#   Solution Information\n",
            "# ----------------------------------------------------------\n",
            "Solution: \n",
            "- number of solutions: 0\n",
            "  number of solutions displayed: 0\n"
          ]
        }
      ]
    },
    {
      "cell_type": "code",
      "source": [
        "print('\\nObjective = ', model.objective())\n",
        "print('\\nDecision Variables')\n",
        "for i in col_indices:\n",
        "  print('x[',i,'] = ', model.x[i].value)\n",
        "print('\\nConstraints')\n",
        "model.constraints.display()"
      ],
      "metadata": {
        "colab": {
          "base_uri": "https://localhost:8080/"
        },
        "id": "M-haxIx1GV0I",
        "outputId": "41834330-47cf-4b6b-fb01-623ed2242c12"
      },
      "execution_count": null,
      "outputs": [
        {
          "output_type": "stream",
          "name": "stdout",
          "text": [
            "\n",
            "Objective =  -14246.257043750004\n",
            "\n",
            "Decision Variables\n",
            "x[ 0 ] =  2039.2619375\n",
            "x[ 1 ] =  -3.0\n",
            "x[ 2 ] =  -1623.2369375\n",
            "x[ 3 ] =  1.0\n",
            "x[ 4 ] =  7.0\n",
            "x[ 5 ] =  3.0\n",
            "x[ 6 ] =  -9.0\n",
            "x[ 7 ] =  0.0\n",
            "x[ 8 ] =  1.0\n",
            "x[ 9 ] =  -25.245\n",
            "x[ 10 ] =  0.0\n",
            "x[ 11 ] =  -6.0\n",
            "x[ 12 ] =  -30.5\n",
            "x[ 13 ] =  -10.8\n",
            "\n",
            "Constraints\n",
            "constraints : Size=2\n",
            "    Key : Lower : Body               : Upper\n",
            "      1 :  None : 343.47999999999985 : 343.48\n",
            "      2 :  66.2 :  66.19999999999925 :   66.2\n"
          ]
        }
      ]
    },
    {
      "cell_type": "markdown",
      "source": [
        "**Report of exercise 1 part 2:**\n",
        "\n",
        "*   **The values of the decision variables at optimal point are:**\n",
        "\n",
        "   x1 = 2039.2619375\n",
        "\n",
        "   x2 = -3.0\n",
        "\n",
        "   x3 = -1623.2369375\n",
        "\n",
        "   x4 =  1.0\n",
        "\n",
        "   x5 = 7.0\n",
        "\n",
        "   x6 = 3.0\n",
        "\n",
        "   x7 = -9.0\n",
        "\n",
        "   x8 = 0.0\n",
        "\n",
        "   x9 = 1.0\n",
        "\n",
        "   x10 = -25.245\n",
        "\n",
        "   x11 = 0.0\n",
        "\n",
        "   x12 = -6.0\n",
        "\n",
        "   x13 = -30.5\n",
        "\n",
        "   x14 = -10.8\n",
        "\n",
        "*   **The value of the objective function at optimal point is:**\n",
        "\n",
        "   -14246.257043750004\n",
        "\n",
        "\n",
        "\n",
        "\n"
      ],
      "metadata": {
        "id": "lBgNJg_u2UMg"
      }
    }
  ],
  "metadata": {
    "colab": {
      "name": "22n0463_IE507_Lab2_Ex1.ipynb",
      "provenance": [],
      "collapsed_sections": []
    },
    "kernelspec": {
      "display_name": "Python 3",
      "name": "python3"
    },
    "language_info": {
      "name": "python"
    }
  },
  "nbformat": 4,
  "nbformat_minor": 0
}