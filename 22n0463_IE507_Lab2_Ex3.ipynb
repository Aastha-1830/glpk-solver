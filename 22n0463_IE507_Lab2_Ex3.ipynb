{
  "nbformat": 4,
  "nbformat_minor": 0,
  "metadata": {
    "colab": {
      "name": "22n0463_IE507_Lab2_Ex3.ipynb",
      "provenance": [],
      "collapsed_sections": []
    },
    "kernelspec": {
      "name": "python3",
      "display_name": "Python 3"
    },
    "language_info": {
      "name": "python"
    }
  },
  "cells": [
    {
      "cell_type": "code",
      "execution_count": null,
      "metadata": {
        "id": "pMJzidaVb5wC"
      },
      "outputs": [],
      "source": [
        "!pip install -q pyomo\n",
        "from pyomo.environ import *"
      ]
    },
    {
      "cell_type": "code",
      "source": [
        "import numpy as np"
      ],
      "metadata": {
        "id": "LucJu34yczeF"
      },
      "execution_count": null,
      "outputs": []
    },
    {
      "cell_type": "code",
      "source": [
        "#Creating a model\n",
        "model1 = ConcreteModel()\n",
        "\n",
        "#No. of decision variables\n",
        "N = 20\n",
        "M = 3\n",
        "\n",
        "#Objective function coefficient using numpy array\n",
        "obj_coef_c = np.array([45, 48, 55, 65, 54, 37.5, 35, 52.5, 47, 28, 82, 102, 150, 105, 95, 84, 88, 125, 70, 64])\n",
        "\n",
        "#Constraints coeffiecient using numpy array\n",
        "constr_coef_A = 0.01*np.array([20, 25, 10, 30, 12.5, 35, 47.5, 10, 20, 50, 20, 25, 10, 30, 12.5, 35, 47.5, 10, 20, 50, 75, 65, 70, 60, 85, 52.5, 42.5, 40, 35, 40, 75, 65, 70, 60, 85, 52.5, 42.5, 40, 35, 40, 5, 10, 20, 10, 2.5, 12.5, 10, 50, 45, 10, 5, 10, 20, 10, 2.5, 12.5, 10, 50, 45, 10,\n",
        "]).reshape(3, 20)\n",
        "constr_coef_B = np.array([1, 1, 1, 1, 1, 1, 1, 1, 1, 1, 1, 1, 1, 1, 1, 1, 1, 1, 1, 1])"
      ],
      "metadata": {
        "id": "ClGv8Hctc7Hi"
      },
      "execution_count": null,
      "outputs": []
    },
    {
      "cell_type": "code",
      "source": [
        "#Declaring RHS of the constraints as variables\n",
        "constr1_rhs_b = (425/100)*np.array([27.5, 57.5, 15])\n",
        "\n",
        "#Declaring lower and upper bounds of the constraints\n",
        "l = np.array([0, 0, 0, 0, 0, 0, 0, 0, 0, 0, 0, 0, 0, 0, 0, 0, 0, 0, 0, 0])\n",
        "u = np.array([15, 16, 9, 17.5, 12, 18.5, 2.5, 0.5, 9.5, 8, +np.inf, +np.inf, +np.inf, +np.inf, +np.inf, +np.inf, +np.inf, +np.inf, +np.inf, +np.inf, ])\n",
        "\n",
        "#Set of row and column indices\n",
        "row_indices = np.arange(M)\n",
        "col_indices = np.arange(N)\n",
        "print(col_indices)\n",
        "print(col_indices[1])"
      ],
      "metadata": {
        "colab": {
          "base_uri": "https://localhost:8080/"
        },
        "id": "Q0PmKlvDc_rA",
        "outputId": "bceee302-ddc1-4703-adb9-c5ba849f5f4e"
      },
      "execution_count": null,
      "outputs": [
        {
          "output_type": "stream",
          "name": "stdout",
          "text": [
            "[ 0  1  2  3  4  5  6  7  8  9 10 11 12 13 14 15 16 17 18 19]\n",
            "1\n"
          ]
        }
      ]
    },
    {
      "cell_type": "code",
      "source": [
        "#Declaring the decision variables in model\n",
        "model1.x = Var(col_indices)"
      ],
      "metadata": {
        "id": "TTxRbYpidD5y"
      },
      "execution_count": null,
      "outputs": []
    },
    {
      "cell_type": "code",
      "source": [
        "#Creating a constraint list to hold multiple constraints\n",
        "model1.constraints = ConstraintList()\n",
        "\n",
        "#Adding model constraints one by one to the list\n",
        "#first add the constraint p1x1 + p2x2 +.......+ pNxN == b1\n",
        "for i in row_indices:\n",
        " model1.constraints.add(sum(constr_coef_A[i][j]*model1.x[j] for j in col_indices) == constr1_rhs_b[i])\n",
        "#second add the constraints q1x1 + qzx2 +......+ qNxN == b2\n",
        " model1.constraints.add(sum(constr_coef_B[j]*model1.x[j] for j in col_indices) == 425)"
      ],
      "metadata": {
        "id": "rgIuACHDdFqm"
      },
      "execution_count": null,
      "outputs": []
    },
    {
      "cell_type": "code",
      "source": [
        "#add the upper and lower bounds for the variables\n",
        "for j in col_indices:\n",
        "  model1.x[j].setlb(l[j])\n",
        "  model1.x[j].setub(u[j])"
      ],
      "metadata": {
        "id": "3YK9yCMddJRY"
      },
      "execution_count": null,
      "outputs": []
    },
    {
      "cell_type": "code",
      "source": [
        "#add the model objective\n",
        "model1.objective = Objective(expr = sum(obj_coef_c[j]*model1.x[j] for j in col_indices), sense = minimize)"
      ],
      "metadata": {
        "id": "Btt2d-widOBu"
      },
      "execution_count": null,
      "outputs": []
    },
    {
      "cell_type": "code",
      "source": [
        "#print the whole model\n",
        "model1.pprint()"
      ],
      "metadata": {
        "colab": {
          "base_uri": "https://localhost:8080/"
        },
        "id": "NS9FDl5RdXXE",
        "outputId": "0e4b9ea3-3680-4c07-e9a6-35a99b4ba180"
      },
      "execution_count": null,
      "outputs": [
        {
          "output_type": "stream",
          "name": "stdout",
          "text": [
            "2 Set Declarations\n",
            "    constraints_index : Size=1, Index=None, Ordered=Insertion\n",
            "        Key  : Dimen : Domain : Size : Members\n",
            "        None :     1 :    Any :    6 : {1, 2, 3, 4, 5, 6}\n",
            "    x_index : Size=1, Index=None, Ordered=False\n",
            "        Key  : Dimen : Domain : Size : Members\n",
            "        None :     1 :    Any :   20 : {0, 1, 2, 3, 4, 5, 6, 7, 8, 9, 10, 11, 12, 13, 14, 15, 16, 17, 18, 19}\n",
            "\n",
            "1 Var Declarations\n",
            "    x : Size=20, Index=x_index\n",
            "        Key : Lower : Value : Upper : Fixed : Stale : Domain\n",
            "          0 :     0 :  None :  15.0 : False :  True :  Reals\n",
            "          1 :     0 :  None :  16.0 : False :  True :  Reals\n",
            "          2 :     0 :  None :   9.0 : False :  True :  Reals\n",
            "          3 :     0 :  None :  17.5 : False :  True :  Reals\n",
            "          4 :     0 :  None :  12.0 : False :  True :  Reals\n",
            "          5 :     0 :  None :  18.5 : False :  True :  Reals\n",
            "          6 :     0 :  None :   2.5 : False :  True :  Reals\n",
            "          7 :     0 :  None :   0.5 : False :  True :  Reals\n",
            "          8 :     0 :  None :   9.5 : False :  True :  Reals\n",
            "          9 :     0 :  None :   8.0 : False :  True :  Reals\n",
            "         10 :     0 :  None :  None : False :  True :  Reals\n",
            "         11 :     0 :  None :  None : False :  True :  Reals\n",
            "         12 :     0 :  None :  None : False :  True :  Reals\n",
            "         13 :     0 :  None :  None : False :  True :  Reals\n",
            "         14 :     0 :  None :  None : False :  True :  Reals\n",
            "         15 :     0 :  None :  None : False :  True :  Reals\n",
            "         16 :     0 :  None :  None : False :  True :  Reals\n",
            "         17 :     0 :  None :  None : False :  True :  Reals\n",
            "         18 :     0 :  None :  None : False :  True :  Reals\n",
            "         19 :     0 :  None :  None : False :  True :  Reals\n",
            "\n",
            "1 Objective Declarations\n",
            "    objective : Size=1, Index=None, Active=True\n",
            "        Key  : Active : Sense    : Expression\n",
            "        None :   True : minimize : 45.0*x[0] + 48.0*x[1] + 55.0*x[2] + 65.0*x[3] + 54.0*x[4] + 37.5*x[5] + 35.0*x[6] + 52.5*x[7] + 47.0*x[8] + 28.0*x[9] + 82.0*x[10] + 102.0*x[11] + 150.0*x[12] + 105.0*x[13] + 95.0*x[14] + 84.0*x[15] + 88.0*x[16] + 125.0*x[17] + 70.0*x[18] + 64.0*x[19]\n",
            "\n",
            "1 Constraint Declarations\n",
            "    constraints : Size=6, Index=constraints_index, Active=True\n",
            "        Key : Lower   : Body                                                                                                                                                                                                                                                                                                            : Upper   : Active\n",
            "          1 : 116.875 :       0.2*x[0] + 0.25*x[1] + 0.1*x[2] + 0.3*x[3] + 0.125*x[4] + 0.35000000000000003*x[5] + 0.47500000000000003*x[6] + 0.1*x[7] + 0.2*x[8] + 0.5*x[9] + 0.2*x[10] + 0.25*x[11] + 0.1*x[12] + 0.3*x[13] + 0.125*x[14] + 0.35000000000000003*x[15] + 0.47500000000000003*x[16] + 0.1*x[17] + 0.2*x[18] + 0.5*x[19] : 116.875 :   True\n",
            "          2 :   425.0 :                                                                                                                                                             x[0] + x[1] + x[2] + x[3] + x[4] + x[5] + x[6] + x[7] + x[8] + x[9] + x[10] + x[11] + x[12] + x[13] + x[14] + x[15] + x[16] + x[17] + x[18] + x[19] :   425.0 :   True\n",
            "          3 : 244.375 : 0.75*x[0] + 0.65*x[1] + 0.7000000000000001*x[2] + 0.6*x[3] + 0.85*x[4] + 0.525*x[5] + 0.425*x[6] + 0.4*x[7] + 0.35000000000000003*x[8] + 0.4*x[9] + 0.75*x[10] + 0.65*x[11] + 0.7000000000000001*x[12] + 0.6*x[13] + 0.85*x[14] + 0.525*x[15] + 0.425*x[16] + 0.4*x[17] + 0.35000000000000003*x[18] + 0.4*x[19] : 244.375 :   True\n",
            "          4 :   425.0 :                                                                                                                                                             x[0] + x[1] + x[2] + x[3] + x[4] + x[5] + x[6] + x[7] + x[8] + x[9] + x[10] + x[11] + x[12] + x[13] + x[14] + x[15] + x[16] + x[17] + x[18] + x[19] :   425.0 :   True\n",
            "          5 :   63.75 :                                                                 0.05*x[0] + 0.1*x[1] + 0.2*x[2] + 0.1*x[3] + 0.025*x[4] + 0.125*x[5] + 0.1*x[6] + 0.5*x[7] + 0.45*x[8] + 0.1*x[9] + 0.05*x[10] + 0.1*x[11] + 0.2*x[12] + 0.1*x[13] + 0.025*x[14] + 0.125*x[15] + 0.1*x[16] + 0.5*x[17] + 0.45*x[18] + 0.1*x[19] :   63.75 :   True\n",
            "          6 :   425.0 :                                                                                                                                                             x[0] + x[1] + x[2] + x[3] + x[4] + x[5] + x[6] + x[7] + x[8] + x[9] + x[10] + x[11] + x[12] + x[13] + x[14] + x[15] + x[16] + x[17] + x[18] + x[19] :   425.0 :   True\n",
            "\n",
            "5 Declarations: x_index x constraints_index constraints objective\n"
          ]
        }
      ]
    },
    {
      "cell_type": "code",
      "source": [
        "!apt-get install -y -qq glpk-utils"
      ],
      "metadata": {
        "id": "_nnxeBdGdaUS"
      },
      "execution_count": null,
      "outputs": []
    },
    {
      "cell_type": "code",
      "source": [
        "SolverFactory('glpk', executable='/usr/bin/glpsol').solve(model1).write()"
      ],
      "metadata": {
        "colab": {
          "base_uri": "https://localhost:8080/"
        },
        "id": "z2DyRdFGdf2Q",
        "outputId": "db283a06-5fbc-4375-ebd5-89ee6da3f310"
      },
      "execution_count": null,
      "outputs": [
        {
          "output_type": "stream",
          "name": "stdout",
          "text": [
            "# ==========================================================\n",
            "# = Solver Results                                         =\n",
            "# ==========================================================\n",
            "# ----------------------------------------------------------\n",
            "#   Problem Information\n",
            "# ----------------------------------------------------------\n",
            "Problem: \n",
            "- Name: unknown\n",
            "  Lower bound: 28747.1875\n",
            "  Upper bound: 28747.1875\n",
            "  Number of objectives: 1\n",
            "  Number of constraints: 7\n",
            "  Number of variables: 21\n",
            "  Number of nonzeros: 121\n",
            "  Sense: minimize\n",
            "# ----------------------------------------------------------\n",
            "#   Solver Information\n",
            "# ----------------------------------------------------------\n",
            "Solver: \n",
            "- Status: ok\n",
            "  Termination condition: optimal\n",
            "  Statistics: \n",
            "    Branch and bound: \n",
            "      Number of bounded subproblems: 0\n",
            "      Number of created subproblems: 0\n",
            "  Error rc: 0\n",
            "  Time: 0.013132572174072266\n",
            "# ----------------------------------------------------------\n",
            "#   Solution Information\n",
            "# ----------------------------------------------------------\n",
            "Solution: \n",
            "- number of solutions: 0\n",
            "  number of solutions displayed: 0\n"
          ]
        }
      ]
    },
    {
      "cell_type": "code",
      "source": [
        "#display solution\n",
        "print('\\nObjective = ', model1.objective())\n",
        "print('\\nDecision Variables')\n",
        "for i in col_indices:\n",
        "  print('x[',i,'] = ', model1.x[i].value)\n",
        "print('\\nConstraints')\n",
        "model1.constraints.display()"
      ],
      "metadata": {
        "colab": {
          "base_uri": "https://localhost:8080/"
        },
        "id": "IDklyJ2Pdj8v",
        "outputId": "8bd80251-7e48-44af-c2eb-384f1c7b8c79"
      },
      "execution_count": null,
      "outputs": [
        {
          "output_type": "stream",
          "name": "stdout",
          "text": [
            "\n",
            "Objective =  28747.1875\n",
            "\n",
            "Decision Variables\n",
            "x[ 0 ] =  15.0\n",
            "x[ 1 ] =  16.0\n",
            "x[ 2 ] =  9.0\n",
            "x[ 3 ] =  17.5\n",
            "x[ 4 ] =  12.0\n",
            "x[ 5 ] =  18.5\n",
            "x[ 6 ] =  2.5\n",
            "x[ 7 ] =  0.5\n",
            "x[ 8 ] =  9.5\n",
            "x[ 9 ] =  8.0\n",
            "x[ 10 ] =  158.078125\n",
            "x[ 11 ] =  0.0\n",
            "x[ 12 ] =  0.0\n",
            "x[ 13 ] =  0.0\n",
            "x[ 14 ] =  0.0\n",
            "x[ 15 ] =  0.0\n",
            "x[ 16 ] =  0.0\n",
            "x[ 17 ] =  0.0\n",
            "x[ 18 ] =  74.046875\n",
            "x[ 19 ] =  84.375\n",
            "\n",
            "Constraints\n",
            "constraints : Size=6\n",
            "    Key : Lower   : Body    : Upper\n",
            "      1 : 116.875 : 116.875 : 116.875\n",
            "      2 :   425.0 :   425.0 :   425.0\n",
            "      3 : 244.375 : 244.375 : 244.375\n",
            "      4 :   425.0 :   425.0 :   425.0\n",
            "      5 :   63.75 :   63.75 :   63.75\n",
            "      6 :   425.0 :   425.0 :   425.0\n"
          ]
        }
      ]
    },
    {
      "cell_type": "markdown",
      "source": [
        "**Report of exercise 3 part 1:**\n",
        "For formulating the LP for this problem we'll be using this generalised method:\n",
        "\n",
        "      min (c^T)x,\n",
        "\n",
        "      s.t Ax ≤ b\n",
        "\n",
        "       l ≤ x ≤ u\n",
        "\n",
        "\n",
        "*  Here we have taken 20 decision variables {x1, x2,........, x20} in the variables numbered from x1 to x10 are the variables denoting in-house stock of alloys.\n",
        "\n",
        "*   While the variables numbered from x11 to x20 are the variables denoting the purchasing alloys.\n",
        "\n",
        "*   The first three rows of the table given in the question itself are the constraint coefficients.\n",
        "\n",
        "*   The in-house stock(4th row) would be the upper bound for all the in-house alloys respectively.\n",
        "\n",
        "*   The last two rows would be contributing as objective function coefficients.\n",
        "\n",
        "*   While the upper bounds for all the purchased alloys would be infinity as they are unlimited in quantity.\n",
        "\n",
        "*   The lower bounds for all the 20 variables would be 0.0 .\n",
        "\n",
        "*   The matrix **\"b\"** would be the required composition of chromium, aluminium and silver.\n",
        "\n",
        "\n",
        "\n",
        " **So, following these points, the formulation would look like as follows:**\n",
        "\n",
        "**Objective function:**\n",
        "\n",
        "      45.0*x[0] + 48.0*x[1] + 55.0*x[2] + 65.0*x[3] + 54.0*x[4] + 37.5*x[5] +35.0*x[6] + 52.5*x[7] + 47.0*x[8] + 28.0*x[9] + 82.0*x[10] + 102.0*x[11] + 150.0*x[12] + 105.0*x[13] + 95.0*x[14] + 84.0*x[15] + 88.0*x[16] + 125.0*x[17] + 70.0*x[18] + 64.0*x[19]\n",
        "\n",
        "**Constraints:**\n",
        "\n",
        "*   0.2*x[0] + 0.25*x[1] + 0.1*x[2] + 0.3*x[3] + 0.125*x[4] + 0.35000000000000003*x[5] + 0.47500000000000003*x[6] + 0.1*x[7] + 0.2*x[8] + 0.5*x[9] + 0.2*x[10] + 0.25*x[11] + 0.1*x[12] + 0.3*x[13] + 0.125*x[14] + 0.35000000000000003*x[15] + 0.47500000000000003*x[16] + 0.1*x[17] + 0.2*x[18] + 0.5*x[19] == 116.875\n",
        "\n",
        "\n",
        "* x[0] + x[1] + x[2] + x[3] + x[4] + x[5] + x[6] + x[7] + x[8] + x[9] + x[10] + x[11] + x[12] + x[13] + x[14] + x[15] + x[16] + x[17] + x[18] + x[19] == 425\n",
        "\n",
        "*  0.75*x[0] + 0.65*x[1] + 0.7000000000000001*x[2] + 0.6*x[3] + 0.85*x[4] + 0.525*x[5] + 0.425*x[6] + 0.4*x[7] + 0.35000000000000003*x[8] + 0.4*x[9] + 0.75*x[10] + 0.65*x[11] + 0.7000000000000001*x[12] + 0.6*x[13] + 0.85*x[14] + 0.525*x[15] + 0.425*x[16] + 0.4*x[17] + 0.35000000000000003*x[18] + 0.4*x[19] == 244.375\n",
        "\n",
        "*    0.05*x[0] + 0.1*x[1] + 0.2*x[2] + 0.1*x[3] + 0.025*x[4] + 0.125*x[5] + 0.1*x[6] + 0.5*x[7] + 0.45*x[8] + 0.1*x[9] + 0.05*x[10] + 0.1*x[11] + 0.2*x[12] + 0.1*x[13] + 0.025*x[14] + 0.125*x[15] + 0.1*x[16] + 0.5*x[17] + 0.45*x[18] + 0.1*x[19] == 63.75\n",
        "\n",
        "*   Xi >= 0 for all i in [1, 20]\n",
        "\n",
        "*   x1 <= 15, x2 <= 16, x3 <= 9, x4 <= 17.5, x5 <= 12, x6 <= 18.5, x7 <= 2.5, x8 <= 0.5, x9 <= 9.5, x10 <= 8\n",
        "\n",
        "*   x11, x12, ........, x20 <= infinity\n",
        "\n",
        "\n",
        "\n",
        "\n",
        "\n",
        "\n",
        "\n",
        "\n",
        "\n",
        "\n",
        "\n",
        "\n",
        "\n",
        "\n",
        "\n",
        "\n",
        "\n",
        "\n",
        "\n"
      ],
      "metadata": {
        "id": "_DvMJCbU69zg"
      }
    },
    {
      "cell_type": "markdown",
      "source": [
        "**Report on exercise 3 part 3:**\n",
        "\n",
        "\n",
        "*   **The value of the decision variables at the optimal point are:**\n",
        "\n",
        "     x1 = 15.0\n",
        "\n",
        "     x2 =  16.0\n",
        "\n",
        "     x3 =  9.0\n",
        "\n",
        "     x4 =  17.5\n",
        "\n",
        "     x5 =  12.0\n",
        "\n",
        "     x6 =  18.5\n",
        "\n",
        "     x7 =  2.5\n",
        "\n",
        "     x8 =  0.5\n",
        "\n",
        "     x9 =  9.5\n",
        "\n",
        "     x10 =  8.0\n",
        "\n",
        "     x11 =  158.078125\n",
        "\n",
        "     x12 =  0.0\n",
        "\n",
        "     x13 =  0.0\n",
        "\n",
        "     x14 =  0.0\n",
        "\n",
        "     x15 =  0.0\n",
        "\n",
        "     x16 =  0.0\n",
        "\n",
        "     x17 =  0.0\n",
        "\n",
        "     x18 =  0.0\n",
        "\n",
        "     x19 =  74.046875\n",
        "\n",
        "     x20 =  84.375\n",
        "\n",
        "*   **The value of the objective fuction at the optimal point is:**\n",
        "\n",
        "       28747.1875\n",
        "\n",
        "\n"
      ],
      "metadata": {
        "id": "z1g4eZcH-vSk"
      }
    },
    {
      "cell_type": "markdown",
      "source": [
        "**Report of exercise 3 part 4:**\n",
        "\n",
        "*   Among the alloys that need to be bought from the market and are ranked high are:\n",
        "   A-1, A-9 and A-10 of which A-1 is ranked highest and then A-10 and then A-19.\n",
        "\n",
        "\n",
        "*   Among all the alloys that need to be bought from from the market A-2, A-3, A-4, A-5, A-6, A-7, A-8 all are ranked low because they actually don't need to be bought.\n",
        "\n",
        "\n",
        "\n",
        "\n"
      ],
      "metadata": {
        "id": "1DJ_H273A-GR"
      }
    },
    {
      "cell_type": "markdown",
      "source": [
        "**Report of exercise 3 part 5:**\n",
        "\n",
        "\n",
        "*   All the stocked alloys are completely utilized since the cost of in-house alloys and purchasing alloys differ much, so the company must have been decided to finish the in-house alloys first.\n",
        "  \n",
        "\n"
      ],
      "metadata": {
        "id": "3w_CIF1_DhQ9"
      }
    },
    {
      "cell_type": "markdown",
      "source": [
        "**Report of exercise 3 part 6:**\n",
        "\n",
        "\n",
        "*  Alloys A-2 to A-8 need not to be acquired from market because the in-house stocked alloys were enough for the company.\n",
        "\n"
      ],
      "metadata": {
        "id": "dP9H-3m_EU_o"
      }
    }
  ]
}